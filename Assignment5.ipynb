{
 "cells": [
  {
   "cell_type": "markdown",
   "metadata": {},
   "source": [
    "#Assignment 5-1"
   ]
  },
  {
   "cell_type": "markdown",
   "metadata": {},
   "source": [
    "클래스와 모듈의 공통점과 차이점에 대해 설명하시오."
   ]
  },
  {
   "cell_type": "markdown",
   "metadata": {},
   "source": [
    "#Assignment 5-2"
   ]
  },
  {
   "cell_type": "code",
   "execution_count": 3,
   "metadata": {
    "collapsed": false
   },
   "outputs": [
    {
     "name": "stdout",
     "output_type": "stream",
     "text": [
      "hallo\n",
      "hi\n",
      "ni hao\n"
     ]
    }
   ],
   "source": [
    "class demo:\n",
    "    def printf(self):\n",
    "        print \"hallo\"\n",
    "        \n",
    "class demo2(demo):\n",
    "    def printf(self):\n",
    "        print \"hi\"\n",
    "\n",
    "class demo3(demo):\n",
    "    def printf(self):\n",
    "        print \"ni hao\"\n",
    "        \n",
    "a=demo()\n",
    "b=demo2()\n",
    "c=demo3()\n",
    "a.printf()\n",
    "b.printf()\n",
    "c.printf()"
   ]
  },
  {
   "cell_type": "markdown",
   "metadata": {},
   "source": [
    "#Assignment 5-3"
   ]
  },
  {
   "cell_type": "code",
   "execution_count": 5,
   "metadata": {
    "collapsed": false
   },
   "outputs": [
    {
     "name": "stdout",
     "output_type": "stream",
     "text": [
      "요구사항 1\n",
      "\n",
      "\n",
      "요구사항 2\n",
      "[Count (step: 1)] 10\n",
      "[Count (step: 2)] 10\n",
      "\n",
      "요구사항 3\n",
      "[Count (step: 1)] 11\n",
      "[Count (step: 2)] 12\n",
      "\n",
      "요구사항 4\n",
      "[Count (step: 1)] 12\n",
      "[Count (step: 2)] 14\n",
      "\n",
      "요구사항 5\n",
      "[Count (step: 1)] 17\n",
      "[Count (step: 2)] 9\n",
      "\n",
      "요구사항 6\n",
      "True\n",
      "False\n",
      "False\n",
      "True\n",
      "True\n",
      "False\n"
     ]
    }
   ],
   "source": [
    "class Counter:\n",
    "    def __init__(self, count, step=1):\n",
    "        self.count=count\n",
    "        self.step=step\n",
    "    def __str__(self):\n",
    "        return \"[Count (step: %d)] %d\" %(self.step, self.count)\n",
    "    def incr(self):\n",
    "        self.count=self.count+self.step\n",
    "    def __call__(self):\n",
    "        self.incr()\n",
    "    def __add__(self, other):\n",
    "        self.count=self.count+other\n",
    "        return self\n",
    "    def __sub__(self, other):\n",
    "        self.count=self.count-other\n",
    "        return self\n",
    "    def __cmp__(self, other):\n",
    "        return self.count-other\n",
    "    def __eq__(self, other):\n",
    "        return  self.count-other==0\n",
    "\n",
    "print \"요구사항 1\"\n",
    "print\n",
    "c=Counter(10)\n",
    "d=Counter(10, 2)\n",
    "print\n",
    "print \"요구사항 2\"\n",
    "print c\n",
    "print d\n",
    "print\n",
    "print \"요구사항 3\"\n",
    "c.incr()\n",
    "d.incr()\n",
    "print c\n",
    "print d\n",
    "print\n",
    "print \"요구사항 4\"\n",
    "c()\n",
    "d()\n",
    "print c\n",
    "print d\n",
    "print\n",
    "print \"요구사항 5\"\n",
    "c=c+5\n",
    "d=d-5\n",
    "print c\n",
    "print d\n",
    "print\n",
    "print \"요구사항 6\"\n",
    "print c>10\n",
    "print d>10\n",
    "print c<10\n",
    "print d<10\n",
    "print c==17\n",
    "print d!=9"
   ]
  },
  {
   "cell_type": "markdown",
   "metadata": {},
   "source": [
    "#Assignment 5-4"
   ]
  },
  {
   "cell_type": "markdown",
   "metadata": {},
   "source": [
    "__init__(), __str()__(), elimicate_duplicate()의 세 개의 메소드 코드 내용을 자신이 다른 사람에게 가르친다고 생각하며 설명해보시오"
   ]
  },
  {
   "cell_type": "markdown",
   "metadata": {},
   "source": [
    "#Assignment 5-5"
   ]
  },
  {
   "cell_type": "code",
   "execution_count": 7,
   "metadata": {
    "collapsed": false,
    "scrolled": true
   },
   "outputs": [
    {
     "name": "stdout",
     "output_type": "stream",
     "text": [
      "MySet: {1 ,2 ,3}\n",
      "MySet: {2 ,3 ,4 ,5 ,6 ,7 ,8 ,9}\n",
      "\n",
      "요구사항 1. 합집합\n",
      "MySet: {1 ,2 ,3 ,4 ,5 ,6 ,7 ,8 ,9}\n",
      "\n",
      "요구사항 2. 교집합\n",
      "MySet: {2 ,3}\n",
      "\n",
      "요구사항 3. 차집합\n",
      "MySet: {1}\n"
     ]
    }
   ],
   "source": [
    "class MySet(list):\n",
    "    def __init__(self, l):\n",
    "        for e in l:\n",
    "            self.append(e)\n",
    "        MySet.eliminate_duplicate(self)\n",
    "    \n",
    "    def __str__(self):\n",
    "        result = \"MySet: {\"\n",
    "        for e in self:\n",
    "            result = result + str(e) + \" ,\"\n",
    "        result = result[0:len(result)-2] + \"}\"\n",
    "        return result\n",
    "\n",
    "    @staticmethod    \n",
    "    def eliminate_duplicate(l):\n",
    "        s = []\n",
    "        for e in l:\n",
    "            if e not in s:\n",
    "                s.append(e)\n",
    "        l[:] = []\n",
    "        for e in s:\n",
    "            l.append(e)\n",
    "    def __or__(self, other):\n",
    "        return MySet(set(self+other))\n",
    "    def __and__(self, other):\n",
    "        self=set(self)\n",
    "        return MySet(self.intersection(other))\n",
    "    def __sub__(self, other):\n",
    "        self=set(self)\n",
    "        return MySet(self.difference(other))\n",
    "    \n",
    "if __name__ == \"__main__\":\n",
    "    s = MySet([1, 2, 2, 3])\n",
    "    print s\n",
    "    t = MySet([2, 3, 4, 5, 6, 7, 8, 8, 8, 8, 8, 9])\n",
    "    print t\n",
    "    print\n",
    "    print \"요구사항 1. 합집합\"\n",
    "    o=s|t\n",
    "    print o\n",
    "    print\n",
    "    print \"요구사항 2. 교집합\"\n",
    "    a=s&t\n",
    "    print a\n",
    "    print\n",
    "    print \"요구사항 3. 차집합\"\n",
    "    n=s-t\n",
    "    print n"
   ]
  },
  {
   "cell_type": "markdown",
   "metadata": {},
   "source": [
    "#Assignment 5-6"
   ]
  },
  {
   "cell_type": "markdown",
   "metadata": {},
   "source": [
    "5번 문제에서 정의한 MySet 클래스에 대해 다음 예제를 수행하면 오류없이 올바르게 동작하는 것을 확인할 수 있다. 다음 예제 내에 있는 len(), bool() 내장함수와 in 키워드 사용 예제가 별다른 메소드 정의를 하지 않았는 데도 올바르게 수행되는 이유를 설명하시오."
   ]
  },
  {
   "cell_type": "markdown",
   "metadata": {},
   "source": [
    "#Assignment 5-7 프로젝트 오일러 16번"
   ]
  },
  {
   "cell_type": "code",
   "execution_count": 36,
   "metadata": {
    "collapsed": false
   },
   "outputs": [
    {
     "name": "stdout",
     "output_type": "stream",
     "text": [
      "1366\n"
     ]
    }
   ],
   "source": [
    "print sum([int(x) for x in str(2**1000)])"
   ]
  },
  {
   "cell_type": "markdown",
   "metadata": {},
   "source": [
    "2^1000을 int형 리스트로 리스트 내포방식으로 후 만든 합을 출력합니다."
   ]
  },
  {
   "cell_type": "markdown",
   "metadata": {},
   "source": [
    "#Assignment 5-8 프로젝트 오일러 17번"
   ]
  },
  {
   "cell_type": "code",
   "execution_count": 2,
   "metadata": {
    "collapsed": false
   },
   "outputs": [
    {
     "name": "stdout",
     "output_type": "stream",
     "text": [
      "21121\n"
     ]
    }
   ],
   "source": [
    "num={0: \"\", 1:\"one\", 2:\"two\", 3:\"three\", 4:\"four\", 5:\"five\", 6:\"six\", 7:\"seven\", 8:\"eight\", 9:\"nine\", 10:\"10\", 11:\"eleven\", 12:\"twelve\", 13:\"thirteen\", 14:\"fourteen\", 15:\"fifteen\", 16:\"sixteen\", 17:\"seventeen\", 18:\"eighteen\", 19:\"nineteen\", 20:\"twenty\", 30:\"thirty\", 40:\"fourty\", 50:\"fifty\", 60:\"sixty\", 70:\"seventy\", 80:\"eighty\", 90:\"ninety\", 100:\"hundred\", 1000:\"thousand\"}\n",
    "add=\"\"\n",
    "for i in range(1, 1001):\n",
    "    if i < 20: add=add+num[i]\n",
    "    elif i < 100:\n",
    "        i=list(str(i))\n",
    "        add=add+num[int(i[0]+\"0\")]+num[int(i[1])]\n",
    "    elif i < 1000:\n",
    "        i=list(str(i))\n",
    "        add=add+num[int(i[0])]+num[100]+\"and\"+num[int(i[1]+\"0\")]+num[int(i[2])]\n",
    "    else: add=add+num[i]\n",
    "print len(add)"
   ]
  },
  {
   "cell_type": "markdown",
   "metadata": {},
   "source": [
    "사전을 사용하여 0~20까지는 모든 영문을 30부터 100까지는 10단위로 마지막으로 1000을 추가한 후 각 숫자를 list로 변환하여 자리수에 맞도록 사전에 입력하여 value를 받아와 형식에 맞게 출력합니다."
   ]
  },
  {
   "cell_type": "markdown",
   "metadata": {},
   "source": [
    "#Assignment 5-9 프로젝트 오일러 18번"
   ]
  },
  {
   "cell_type": "code",
   "execution_count": 3,
   "metadata": {
    "collapsed": false
   },
   "outputs": [
    {
     "name": "stdout",
     "output_type": "stream",
     "text": [
      "1074\n"
     ]
    }
   ],
   "source": [
    "def under(num, location, lvl):\n",
    "    if lvl>15: return 0\n",
    "    left=under(num, location+lvl, lvl+1)\n",
    "    right=under(num, location+lvl+1, lvl+1)\n",
    "    \n",
    "    if left>=right: return int(int(num[location])+left)\n",
    "    else: return int(int(num[location])+right)\n",
    "\n",
    "num=\"75 95 64 17 47 82 18 35 87 10 20 04 82 47 65 19 01 23 75 03 34 88 02 77 73 07 63 67 99 65 04 28 06 16 70 92 41 41 26 56 83 40 80 70 33 41 48 72 33 47 32 37 16 94 29 53 71 44 65 25 43 91 52 97 51 14 70 11 33 28 77 73 17 78 39 68 17 57 91 71 52 38 17 14 91 43 58 50 27 29 48 63 66 04 68 89 53 67 30 73 16 69 87 40 31 04 62 98 27 23 09 70 98 73 93 38 53 60 04 23\".split()\n",
    "print under(num, 0, 1);"
   ]
  },
  {
   "cell_type": "markdown",
   "metadata": {},
   "source": [
    "Divide and conquer방식으로 아래서 부터 큰값들만은 반환하며 루트까지 올라온 값을 출력합니다."
   ]
  },
  {
   "cell_type": "markdown",
   "metadata": {},
   "source": [
    "#Assignment 5-10 프로젝트 오일러 19번"
   ]
  },
  {
   "cell_type": "code",
   "execution_count": 38,
   "metadata": {
    "collapsed": false
   },
   "outputs": [
    {
     "name": "stdout",
     "output_type": "stream",
     "text": [
      "171\n"
     ]
    }
   ],
   "source": [
    "import calendar\n",
    "\n",
    "count=0\n",
    "for i in range(1901, 2001):\n",
    "    for j in range(1, 13):\n",
    "        cal=calendar.month(i,j)\n",
    "        for k in range(len(cal)):\n",
    "            if cal[k]=='S' and cal[k+1]=='u':\n",
    "                if cal[k+22]=='1':\n",
    "                    count=count+1\n",
    "                break\n",
    "print count"
   ]
  },
  {
   "cell_type": "markdown",
   "metadata": {},
   "source": [
    "calendar를 사용하여 반환되는 str의 'Su' index 다음 줄이 1인지 확인하여 카운트한 값을 출력합니다."
   ]
  },
  {
   "cell_type": "markdown",
   "metadata": {},
   "source": [
    "#Assignment 5-11 프로젝트 오일러 20번"
   ]
  },
  {
   "cell_type": "code",
   "execution_count": 40,
   "metadata": {
    "collapsed": false
   },
   "outputs": [
    {
     "name": "stdout",
     "output_type": "stream",
     "text": [
      "648\n"
     ]
    }
   ],
   "source": [
    "def fact(num):\n",
    "    fact=1\n",
    "    for i in range(1, num+1):\n",
    "        fact=fact*i\n",
    "    return fact\n",
    "\n",
    "fact=[int(x) for x in str(fact(100))]\n",
    "print sum(fact)"
   ]
  },
  {
   "cell_type": "markdown",
   "metadata": {},
   "source": [
    "fact함수를 통해 100팩토리얼의 값을 int형 리스트로 리스트 내포방식으로 바꾼 후 합을 출력합니다."
   ]
  },
  {
   "cell_type": "markdown",
   "metadata": {},
   "source": [
    "#Assignment 5-12 프로젝트 오일러 21번"
   ]
  },
  {
   "cell_type": "code",
   "execution_count": 6,
   "metadata": {
    "collapsed": false
   },
   "outputs": [
    {
     "name": "stdout",
     "output_type": "stream",
     "text": [
      "31626\n"
     ]
    }
   ],
   "source": [
    "def get_add(num): \n",
    "    add=1\n",
    "    for i in range(2, num/2+1):\n",
    "        if num%i==0: add=add+i\n",
    "    return add\n",
    "\n",
    "add=0\n",
    "for i in range(1, 10000):\n",
    "    first=get_add(i)\n",
    "    if i==get_add(first) and i!=first:\n",
    "        add=add+i\n",
    "        \n",
    "print add"
   ]
  },
  {
   "cell_type": "markdown",
   "metadata": {},
   "source": [
    "1부터 10000까지의 수를 for문으로 대입하며 get_add함수를 통해 약수의 합을 구해 친화수 여부를 확인하여 맞다면 add에 가산합니다. 단 자기 자신을 제외합니다."
   ]
  },
  {
   "cell_type": "markdown",
   "metadata": {},
   "source": [
    "#Assignment 5-13"
   ]
  },
  {
   "cell_type": "code",
   "execution_count": 11,
   "metadata": {
    "collapsed": false
   },
   "outputs": [
    {
     "name": "stdout",
     "output_type": "stream",
     "text": [
      "div\n"
     ]
    }
   ],
   "source": [
    "import copy\n",
    "import urllib2\n",
    "import string\n",
    "\n",
    "class WebWordsFrequency:\n",
    "    sitelist=None\n",
    "    ig_words=[ 'a', 'and', 'are', 'as', 'at', 'be', 'but', 'by', 'for', 'if', 'in', 'into', 'is', 'it', 'no', 'not', 'of', 'on', 'or', 's', 'such', 't', 'that', 'the', 'their', 'then', 'there', 'these', 'they', 'this', 'to', 'was', 'will', 'with']\n",
    "    def __init__(self, *arg):\n",
    "        temp=[]\n",
    "        for i in arg:\n",
    "            temp.append(i)\n",
    "        self.sitelist=copy.deepcopy(temp)\n",
    "        \n",
    "    def addUrl(self, site):\n",
    "        self.sitelist.append(site)\n",
    "        \n",
    "    def removeUrl(self, site):\n",
    "        self.sitelist.remove(site)\n",
    "    \n",
    "    def listUrls(self):\n",
    "        for i in self.sitelist:\n",
    "            print i\n",
    "            \n",
    "    def getWordsFrequency(self):\n",
    "        counter={}\n",
    "        if len(self.sitelist)==0: return None # 없을 경우 None 반환\n",
    "        for site in self.sitelist:\n",
    "            source = urllib2.urlopen(site).read()\n",
    "\n",
    "            for i in range(0, source.count('<!--')):\n",
    "                if source.find(\"<!--\") != -1:\n",
    "                    source = source.replace(source[source.find(\"<!--\"):source.find(\"-->\")+3:],\"\")\n",
    "\n",
    "            for i in range(0,source.count(\"<\")):\n",
    "                if source.find(\"<\") != -1:\n",
    "                    source = source.replace(source[source.find(\"<\"):source.find(\">\")+1:],\"\")\n",
    "\n",
    "            words = source.split()\n",
    "\n",
    "            i=0\n",
    "            ilength=len(words)\n",
    "            while i < ilength:\n",
    "                j=0\n",
    "                jlength=len(words[i])\n",
    "                while j < jlength:\n",
    "                    if words[i][j] in string.punctuation:\n",
    "                        words[i]=words[i].replace(words[i][j], '')\n",
    "                        j-=1\n",
    "                        jlength=len(words[i])\n",
    "                    j+=1\n",
    "\n",
    "                if len(words[i])==0:\n",
    "                    words.pop(i)\n",
    "                    ilength-=1\n",
    "                    i-=1\n",
    "                elif words[i] in self.ig_words: #불용어 제거\n",
    "                    words.pop(i)\n",
    "                    ilength-=1\n",
    "                    i-=1\n",
    "                else:\n",
    "                    if words[i] in counter:\n",
    "                        counter[words[i]]+=1\n",
    "                    else:\n",
    "                        counter[words[i]]=1\n",
    "                i+=1\n",
    "        self.counter=counter\n",
    "        return counter\n",
    "        \n",
    "    def getMaxFreqencyWords(self):\n",
    "        try:\n",
    "            len(self.counter)\n",
    "        except:\n",
    "            self.getWordsFrequency()\n",
    "        \n",
    "        counter=[]\n",
    "        temp=self.counter.keys()\n",
    "        for i in temp:\n",
    "            counter.append((self.counter[i], i ))\n",
    "\n",
    "        counter.sort(reverse=True)\n",
    "        i=0\n",
    "        print counter[i][1] # 동일하면 계속 출력\n",
    "        while counter[i+1][0]==counter[i]:\n",
    "            i=i+1\n",
    "            print counter[i][1]\n",
    "\n",
    "w1 = WebWordsFrequency('http://www.cnn.com', 'http://www.times.com', 'https://www.amazon.com') \n",
    "w1.getMaxFreqencyWords()"
   ]
  },
  {
   "cell_type": "markdown",
   "metadata": {},
   "source": [
    "#Assignment 5-14"
   ]
  },
  {
   "cell_type": "code",
   "execution_count": 13,
   "metadata": {
    "collapsed": false
   },
   "outputs": [
    {
     "name": "stdout",
     "output_type": "stream",
     "text": [
      "[(38, 'classsection'), (29, 'classmfooterlistitema'), (29, 'classmfooterlink'), (26, 'CNN'), (19, '0'), (16, 'dataanalyticsheaderCNN'), (14, 'your'), (13, 'large'), (12, 'classitem'), (11, 'medium'), (11, 'classmlegallinks'), (10, 'has'), (10, 'from'), (10, 'classmlegallistitema'), (10, 'ISIS'), (9, 'srcdataimagegifbase64R0lGODlhEAAJAJEAAAAAAPwAAACH5BAEAAAIALAAAAAAQAAkAAAIKlIpy0Po5yUFQA7'), (9, 'small'), (9, 'function'), (9, 'full16x9'), (9, 'dataeqptsxsmall'), (9, 'classshowposter'), (9, 'classmnavigationspecialsanchor'), (9, '780'), (9, '460'), (8, 'titleCNN'), (8, 'drawerulli'), (8, 'classmfooterbucket'), (8, 'altCNN'), (8, 'aa'), (8, 'TV'), (8, '1100div'), (7, 'znempty'), (7, 'var'), (7, 'u003ca'), (7, 'span'), (7, 'classsections'), (7, 'classmfootertitlelink'), (7, 'classmfootertitlea'), (7, 'classmfootersubtitles'), (7, 'classcdwrapper'), (7, 'classcdheadline'), (7, 'classcd'), (7, 'classbucket'), (7, 'cdmediaimage'), (7, 'cdhassiblings'), (7, 'cdcard'), (7, 'cdarticle'), (7, '300'), (6, 'wineditionadTargetsrefdom'), (6, 'we'), (6, 'up'), (6, 'sectionsection'), (6, 'return'), (6, 'dataanalyticsTop20Storieslisthierarchicalxsarticlediv'), (6, 'dataanalyticsTop20Storieslisthierarchicalxsarticlea'), (6, 'classmnavigationquicklinks'), (6, 'classitema'), (6, 'classcdcontenth3'), (6, 'Your'), (6, 'Freedom'), (5, 'you'), (5, 'inside'), (5, 'href'), (5, 'else'), (5, 'country'), (5, 'climate'), (5, 'classcdheadlineiconspanah3divdivarticlearticle'), (5, 'cdextrasmall'), (5, 'an'), (5, 'Syria'), (5, 'Service'), (5, '2015'), (4, 'when'), (4, 'video'), (4, 'usalili'), (4, 'typeradio'), (4, 'some'), (4, 'shows'), (4, 'pollution'), (4, 'people'), (4, 'more'), (4, 'look'), (4, 'itemoption'), (4, 'error'), (4, 'edition'), (4, 'classmediaimage'), (4, 'classjseditionpreferenceschoice'), (4, 'classad'), (4, 'city'), (4, 'change'), (4, 'cars'), (4, 'best'), (4, 'altIn'), (4, 'air'), (4, 'adepic'), (4, 'World'), (4, 'Saturday'), (4, 'Raqqa'), (4, 'News'), (4, 'Facebook'), (4, 'Beijing'), (4, '01'), (4, '000000'), (3, 'worlds'), (3, 'women'), (3, 'who'), (3, 'were'), (3, 'town'), (3, 'took'), (3, 'three'), (3, 'theme'), (3, 'set'), (3, 'selected'), (3, 'see'), (3, 'off'), (3, 'nominations'), (3, 'most'), (3, 'money'), (3, 'like'), (3, 'life'), (3, 'leader'), (3, 'its'), (3, 'information'), (3, 'hrefspecials'), (3, 'his'), (3, 'he'), (3, 'have'), (3, 'get'), (3, 'e'), (3, 'doc'), (3, 'div'), (3, 'day'), (3, 'catch'), (3, 'captured'), (3, 'capital'), (3, 'amp'), (3, 'about'), (3, 'We'), (3, 'US'), (3, 'Twitter'), (3, 'Starr'), (3, 'Project'), (3, 'Profiles'), (3, 'Please'), (3, 'Mobilealili'), (3, 'Mexico'), (3, 'Heroes'), (3, 'Google'), (3, 'Extrasalili'), (3, 'Espa\\xc3\\xb1ol'), (3, 'CNNs'), (3, 'Arabic'), (3, 'AZalili'), (2, 'znrightfluidleftstack'), (2, 'years'), (2, 'year'), (2, 'xsmall'), (2, 'world'), (2, 'withcountdownTextPreview'), (2, 'windowconsole'), (2, 'weeks'), (2, 'wearing'), (2, 'waterfall'), (2, 'watching'), (2, 'washes'), (2, 'wants'), (2, 'walk'), (2, 'vrq'), (2, 'valuewwwlabel'), (2, 'valueeditionlabel'), (2, 'using'), (2, 'used'), (2, 'use'), (2, 'us'), (2, 'unit'), (2, 'typetext'), (2, 'typesubmit'), (2, 'two'), (2, 'try'), (2, 'true'), (2, 'tower'), (2, 'tou003cbrall'), (2, 'tlight'), (2, 'time'), (2, 'than'), (2, 'targetblanktroubleshooting'), (2, 'tank'), (2, 'tallest'), (2, 'takes'), (2, 'taken'), (2, 'suspect'), (2, 'supported'), (2, 'subscription'), (2, 'stunning'), (2, 'streets'), (2, 'stands'), (2, 'stab'), (2, 'srcdataimagegifbase64R0lGODlhEAAJAJEAAAAAAPwAAACH5BAEAAAIALAAAAAAQAAkAAAIKlIpy0Po5yUFQA7div'), (2, 'specialstitleTextYour'), (2, 'solar'), (2, 'social'), (2, 'smog'), (2, 'smashed'), (2, 'size'), (2, 'site'), (2, 'ship'), (2, 'service'), (2, 'script'), (2, 'says'), (2, 'rolebuttonspan'), (2, 'registryFile'), (2, 'refreshsubscriptionErrorTextYour'), (2, 'red'), (2, 'reached'), (2, 'rains'), (2, 'quality'), (2, 'purportedly'), (2, 'provider'), (2, 'preview'), (2, 'preferencelili'), (2, 'poor'), (2, 'placeholderSearch'), (2, 'place'), (2, 'photos'), (2, 'photo'), (2, 'persists'), (2, 'performance'), (2, 'pay'), (2, 'patrolled'), (2, 'parts'), (2, 'partnership'), (2, 'parks'), (2, 'park'), (2, 'over'), (2, 'out'), (2, 'our'), (2, 'old'), (2, 'occurred'), (2, 'now'), (2, 'next'), (2, 'nameeditionprefheader'), (2, 'nameeditionpreffooter'), (2, 'month'), (2, 'military'), (2, 'methodget'), (2, 'mediaimageresponsive'), (2, 'media'), (2, 'mass'), (2, 'masks'), (2, 'making'), (2, 'make'), (2, 'longer'), (2, 'living'), (2, 'levels'), (2, 'layout'), (2, 'largest'), (2, 'keep'), (2, 'just'), (2, 'jseditionpreferencesconfirmConfirmliuldivdivdiv'), (2, 'jseditionpickerlist'), (2, 'itemselectSet'), (2, 'itemconfirm'), (2, 'issues'), (2, 'international'), (2, 'instructionsu003cagoSmartLinkhttpcnnitgopersistentCtacobrandingTextIn'), (2, 'include'), (2, 'image'), (2, 'hrefwwwfacebookcomcnninternational'), (2, 'hrefwwwcnncomhelpcnngotroubleshootinghtml'), (2, 'hrefweather'), (2, 'hrefvideos'), (2, 'hreftwittercomcnni'), (2, 'hreftv'), (2, 'hreftools'), (2, 'hreftermsTerms'), (2, 'hrefspecialsworldfreedomproject'), (2, 'hrefspecialsprofiles'), (2, 'hrefspecialsphotos'), (2, 'hrefspecialsmorecnnleadership'), (2, 'hrefspecialsimpactyourworld'), (2, 'hrefspecialscnnheroes'), (2, 'hrefregions'), (2, 'hrefprivacyPrivacy'), (2, 'hrefplusgooglecomCNNInternational'), (2, 'hrefopinions'), (2, 'hrefmore'), (2, 'hrefmexicocnncom'), (2, 'hrefinteractivemobile'), (2, 'hrefcnnespanolcnncom'), (2, 'hrefarabiccnncom'), (2, 'href20151207middleeastraqqaisisrefugeetestimonyindexhtml'), (2, 'holds'), (2, 'hazardous'), (2, 'groupamp39s'), (2, 'grim'), (2, 'ghost'), (2, 'foul'), (2, 'forces'), (2, 'floods'), (2, 'fled'), (2, 'flag'), (2, 'firstever'), (2, 'first'), (2, 'file'), (2, 'fighter'), (2, 'favorite'), (2, 'father'), (2, 'farright'), (2, 'face'), (2, 'expires'), (2, 'expirederrorSlatedefaultTextAn'), (2, 'ever'), (2, 'engulfed'), (2, 'en'), (2, 'efforts'), (2, 'easy'), (2, 'dont'), (2, 'does'), (2, 'do'), (2, 'despite'), (2, 'datavaluehttpuscnncominput'), (2, 'datavaluehttpeditioncnncominput'), (2, 'datavaluehttpcnnespanolcnncomEspa\\xc3\\xb1ollili'), (2, 'datavaluehttparabiccnncomArabiclili'), (2, 'dataeqptsmini'), (2, 'datademandloadnotloaded'), (2, 'dataanalyticsheaderImpact'), (2, 'dataanalyticseditionpickerli'), (2, 'cookies'), (2, 'contact'), (2, 'companies'), (2, 'clean'), (2, 'classtroubleshootinglink'), (2, 'classsearch'), (2, 'classmediaa'), (2, 'classlogo'), (2, 'classlist'), (2, 'classlcontainerdiv'), (2, 'classimgpreloaderdivnoscriptimg'), (2, 'classdropdowndiv'), (2, 'classcurrentInternational'), (2, 'classcolumnul'), (2, 'classcn'), (2, 'cdvertical'), (2, 'cdlarge'), (2, 'cdidx0'), (2, 'cdhasmedia'), (2, 'call'), (2, 'built'), (2, 'building'), (2, 'browser'), (2, 'border'), (2, 'been'), (2, 'attacks'), (2, 'art'), (2, 'anywhere'), (2, 'anytime'), (2, 'another'), (2, 'announced'), (2, 'all'), (2, 'agree'), (2, 'adrefreshadbannerdivdivdiv'), (2, 'adall'), (2, 'actionsearch'), (2, 'across'), (2, 'access'), (2, 'Watch'), (2, 'Videosalili'), (2, 'Venezuela'), (2, 'Turkish'), (2, 'Tube'), (2, 'Tiananmen'), (2, 'Tayyip'), (2, 'System'), (2, 'Square'), (2, 'Showsalili'), (2, 'Sep'), (2, 'San'), (2, 'Recep'), (2, 'Qaryatain'), (2, 'ProvidertroubleShootingTextIf'), (2, 'ProvidermessageTextKeep'), (2, 'Paris'), (2, 'OK'), (2, 'Nov'), (2, 'Look'), (2, 'Kurdish'), (2, 'Kids'), (2, 'Jan'), (2, 'It'), (2, 'ISIL'), (2, 'French'), (2, 'Editiondivul'), (2, 'Eastalili'), (2, 'Cubans'), (2, 'Click'), (2, 'California'), (2, 'CNNgou003cbrSign'), (2, 'CNNgo'), (2, 'Broadcasting'), (2, 'Bernardino'), (2, 'Arabia'), (2, 'Air'), (2, 'Africas'), (2, '781'), (2, '461'), (2, '308'), (2, '28'), (2, '221'), (2, '2115'), (1, 'zoneIds'), (1, 'znloaded'), (1, 'znintlhomepage1zone1'), (1, 'znidx0'), (1, 'znhastwocontainers'), (1, 'youve'), (1, 'xdocument'), (1, 'wows'), (1, 'would'), (1, 'wonthumbnailhttpi2cdnturnercomcnnnextdamassets151207135338venezuelaelections03small11jpgdurationdescriptionlayouturi20151207europelondontubestabbingsindexhtmlheadlineLondon'), (1, 'wont'), (1, 'wonspanspan'), (1, 'wish'), (1, 'wipes'), (1, 'winter'), (1, 'wineditionadTargetscapTopics'), (1, 'wineditionadTargets'), (1, 'winedition'), (1, 'windoweditionadTargets'), (1, 'windowdocumentdomain'), (1, 'windowdiv'), (1, 'win'), (1, 'wifethumbnailhttpi2cdnturnercomcnnnextdamassets151118151632kelseyandersonteasesmall11jpgdurationdescriptionlayouturi20151201entertainmentchristiebrinkleybikinifeatindexhtmlheadlineChristie'), (1, 'width416'), (1, 'wholl'), (1, 'while'), (1, 'where'), (1, 'weekendlayouturi20151207entertainmentgrammynominations2016indexhtmlheadlineGrammy'), (1, 'wedding'), (1, 'website'), (1, 'weatherfooter'), (1, 'weather'), (1, 'ways'), (1, 'waves'), (1, 'water'), (1, 'war'), (1, 'wake'), (1, 'vulnerable'), (1, 'vrqIsOnHPvrqpushtrack'), (1, 'vrqIsOnHP'), (1, 'visualRevenueResponsed'), (1, 'visits'), (1, 'visit'), (1, 'vision'), (1, 'version'), (1, 'verify'), (1, 'vanishes'), (1, 'urlcdnoptimizelycomjs128727546jsCNNOutbrainVideoKPISrc'), (1, 'upthumbnailhttpi2cdnturnercomcnnnextdamassets151207154832japanboat4small11jpgdurationdescriptionlayouturi20151207americasvenezuelaoelectionsindexhtmlheadlineOpposition'), (1, 'upspanspan'), (1, 'update'), (1, 'unveiled'), (1, 'unseen'), (1, 'unnamed'), (1, 'unmarked'), (1, 'unlikely'), (1, 'undefined'), (1, 'uaindexOfiphone'), (1, 'uaindexOfipad'), (1, 'uaindexOfandroid'), (1, 'ua'), (1, 'u003cimg'), (1, 'typetextjavascriptvar'), (1, 'typetextjavascriptDY'), (1, 'typeof'), (1, 'type'), (1, 'tym'), (1, 'twitter'), (1, 'tvshows'), (1, 'tv'), (1, 'tunnel'), (1, 'truessrc'), (1, 'trueinfo'), (1, 'trueerror'), (1, 'trueenableZoneOutbrain'), (1, 'trueenableWeather'), (1, 'trueenableVisualRevenueVideo'), (1, 'trueenableVideoPinning'), (1, 'trueenableVideoEndSlate'), (1, 'trueenableUserMessage'), (1, 'trueenableSafariPushAlerts'), (1, 'trueenableRefreshTimers'), (1, 'trueenableOutbrainVideoKPI'), (1, 'trueenableJumbotronAutoScroll'), (1, 'trueenableBreakingNews'), (1, 'trueenableAspenForTOS'), (1, 'trueenableAspenForCVP'), (1, 'trueenableAmazonVideoAds'), (1, 'trueenableAmazonDisplayAds'), (1, 'trueCNNMailchimp'), (1, 'trueCNNFeeds'), (1, 'true0script'), (1, 'trouble'), (1, 'treasure'), (1, 'travel'), (1, 'trapped'), (1, 'transformer'), (1, 'train'), (1, 'totally'), (1, 'tossed'), (1, 'topless'), (1, 'top'), (1, 'toolsextras'), (1, 'tlightdiv'), (1, 'titleTurner'), (1, 'titleImpact'), (1, 'title'), (1, 'thumbnailhttpi2cdnturnercomcnnnextdamassets151207154058malhamwaterfallsmall11jpgdurationdescriptionHeavy'), (1, 'thumbnailhttpi2cdnturnercomcnnnextdamassets151207140849cnnheroesslothteasesmall11jpgdurationdescriptionlayouturi20151205americascolombiaspanishgalleonsanjosefoundindexhtmlheadlineWorlds'), (1, 'thumbnailhttpi2cdnturnercomcnnnextdamassets151203150548krampussmall11jpgdurationdescriptionlayouturi20151008uscnntoptenheroes2015indexhtmlheadlineMeet'), (1, 'thumbnailhttpi2cdnturnercomcnnnextdamassets151126110739chitbeer7small11jpgdurationdescriptionlayouturi20151124fashionbritishfashionawards2015indexhtmlheadlineHottest'), (1, 'thumbnailhttpi2cdnturnercomcnnnextdamassets151124150016britishfashionawards2015tease1small11jpgdurationdescriptionlayouturi20151120worldliviafirthfastfashionwagesindexhtmlheadlineAre'), (1, 'thumbnailhttpi2cdnturnercomcnnnextdamassets15110619180002ritalevimontalcinirestrictedsmall11jpgdurationdescriptionlayouturi20151119artsantonygormleyeventhorizonindexhtmlheadlineAlien'), (1, 'thumbnaildurationdescriptionlayouturi20151005middleeastyazidiwomensuicideinisiscaptivityindexhtmlheadlineWomen'), (1, 'threshold640script'), (1, 'threshold1200disableHoverThreshold1CNNBylineImages'), (1, 'thinking'), (1, 'themthumbnailhttpi2cdnturnercomcnnnextdamassets151201152931edniburghairportsmall11jpgdurationdescriptionPhotographer'), (1, 'themselves'), (1, 'them'), (1, 'thanks'), (1, 'terrorist'), (1, 'terror'), (1, 'tennis'), (1, 'tech'), (1, 'tdarkdiv'), (1, 'tco'), (1, 'tallthumbnailhttpi2cdnturnercomcnnnextdamassets140416164143saudifreedomtowercloudviewsmall11jpgduration0113descriptionSaudi'), (1, 'taller'), (1, 'talksthumbnailhttpi2cdnturnercomcnnnextdamassets151130163759barackobamaxijinpingsmall11jpgdurationdescriptionISIS'), (1, 'talk'), (1, 'systemthumbnailhttpi2cdnturnercomcnnnextdamassets151204123741expoplanets1hd106906bsmall11jpgdurationdescriptionlayouturi20151206sportlindseyvonnlakelouiseskiingindexhtmlheadlineVonn'), (1, 'system'), (1, 'swamp'), (1, 'surprising'), (1, 'supportedmessageTextThank'), (1, 'support'), (1, 'sunken'), (1, 'subway'), (1, 'style'), (1, 'striking'), (1, 'strict'), (1, 'stranded'), (1, 'storyCNNToggleOutbrain'), (1, 'storied'), (1, 'stones'), (1, 'still'), (1, 'starting'), (1, 'srchttpzcdnturnercomanalyticscnnexpanjsmdminjsscript'), (1, 'srchttpi2cdnturnercomcnnnextdamassets151201101510beijingsmog1128largeteasejpgnoscriptadivdiv'), (1, 'srchttpi2cdnturnercomcnnnextdamassets151105103638isisflagtanklargeteasejpgnoscriptadivdiv'), (1, 'srchttphostvideoapiembedhtmlvideovideoId'), (1, 'srchttpeditionicdncnncoma12221jsvendorusabillaminjsscript'), (1, 'srchttpeditionicdncnncoma12221jscnnvideoapiminjsversionlatestclientexpansion'), (1, 'srchttpeditionicdncnncoma12221jscnnheadersecondminjsscript'), (1, 'srchttpeditionicdncnncoma12221jscnnheaderfirstminjsscript'), (1, 'srchttpeditionicdncnncoma12221jscnnfooterlibminjsscript'), (1, 'srchttpeditionicdncnncoma12221jscnnanalyticsminjsscript'), (1, 'srchttpchoicestrustecomgetnameadmarkericontrpng'), (1, 'srchttpapostreleasecomserveloadjsasynctruescript'), (1, 'srccdnoptimizelycomjs128727546jsheadbody'), (1, 'srccdndynamicyieldcomapi8766314apistaticjsfunction'), (1, 'srccdndynamicyieldcomapi8766314apidynamicjsscript'), (1, 'srccdnclicktalenetwww04ptc342da402a44b4b59aba48fc2310e4478jsscript'), (1, 'srccdnclicktalenetwww04phc342da402a44b4b59aba48fc2310e4478jsscript'), (1, 'spread'), (1, 'sportslayouticonTypegalleryuri20151119entertainmenthollyholmufcfighterprofilefeatindexhtmlheadlineThe'), (1, 'sports'), (1, 'sport'), (1, 'spend'), (1, 'spanWe'), (1, 'spanObama'), (1, 'spanLife'), (1, 'southeast'), (1, 'sources'), (1, 'someone'), (1, 'solvedthumbnailhttpi2cdnturnercomcnnnextdamassets151130053712carschinatrafficlevitatevo00001016small11jpgduration0050descriptionThousands'), (1, 'soldiers'), (1, 'slaverythumbnailhttpi2cdnturnercomcnnnextdamassets151111185744exposinghumantraffickingintenancingoromofreedomprojectpkg00004817small11jpgdurationdescriptionlayouturi20151203opinionssutterbillgatespariscop21indexhtmlheadlineYour'), (1, 'skinnydiv'), (1, 'silence'), (1, 'sightings'), (1, 'siblings'), (1, 'showing'), (1, 'show'), (1, 'should'), (1, 'shot'), (1, 'shootingthumbnailhttpi2cdnturnercomcnnnextdamassets15120221235934sanbernardinoshooting1202small11jpgduration0105descriptionChaos'), (1, 'shooting'), (1, 'shooter'), (1, 'shocked'), (1, 'shared'), (1, 'shaped'), (1, 'shadowy'), (1, 'sfstartptnew'), (1, 'sex'), (1, 'setthumbnailhttpi2cdnturnercomcnnnextdamassets151207125938bb8teasesmall11jpgdurationdescriptionThere'), (1, 'setRefDomwin'), (1, 'selective'), (1, 'seen'), (1, 'sectionindexhtmlenablePictureFillfalseenableZonesScrollToLoadfalselazyLoadtrueloadAllZonesLazyfalsezonesminWidth0indexhtmlintlhomepage1zone1indexhtmlintlhomepage1zone2intlindex3htmlintlhomepagemagellanzone1intlindex3htmlintlhomepagemagellanzone2intlindex3htmlintlhomepagemagellanzone3intlindex3htmlintlhomepagemagellanzone4indexhtmlintlhomepage3zone4640indexhtmlintlhomepage1zone1indexhtmlintlhomepage1zone2indexhtmlintlhomepage1zone3indexhtmlintlhomepage1zone4indexhtmlintlhomepage2zone1indexhtmlintlhomepage3zone1indexhtmlintlhomepage3zone2indexhtmlintlhomepage3zone3indexhtmlintlhomepage3zone4800indexhtmlintlhomepage1zone1indexhtmlintlhomepage1zone2indexhtmlintlhomepage1zone3indexhtmlintlhomepage1zone4indexhtmlintlhomepage2zone1indexhtmlintlhomepage3zone1indexhtmlintlhomepage3zone2indexhtmlintlhomepage3zone3indexhtmlintlhomepage3zone4index2htmlenablePictureFilltrueenableZonesScrollToLoadfalselazyLoadtruezonesminWidth0index2htmlintlhomepage1zone1index2htmlintlhomepage1zone2index2htmlintlhomepage1zone3index2htmlintlhomepage1zone4index2htmlintlhomepage2zone1index2htmlintlhomepage3zone1index2htmlintlhomepage3zone2index2htmlintlhomepage3zone3index2htmlintlhomepage3zone4640index2htmlintlhomepage1zone1index2htmlintlhomepage1zone2index2htmlintlhomepage1zone3index2htmlintlhomepage1zone4index2htmlintlhomepage2zone1index2htmlintlhomepage3zone1index2htmlintlhomepage3zone2index2htmlintlhomepage3zone3index2htmlintlhomepage3zone4800index2htmlintlhomepage1zone1index2htmlintlhomepage1zone2index2htmlintlhomepage1zone3index2htmlintlhomepage1zone4index2htmlintlhomepage2zone1index2htmlintlhomepage3zone1index2htmlintlhomepage3zone2index2htmlintlhomepage3zone3index2htmlintlhomepage3zone4CNNSiblingNavigation'), (1, 'sectionentertainmentenableFooterfalseenableIncludetruehealthenableFooterfalseenableIncludetruelivingenableFooterfalseenableIncludetruepoliticsenableFooterfalseenableIncludetruetechenableFooterfalseenableIncludetruetravelenableFooterfalseenableIncludetrueusenableFooterfalseenableIncludetrueworldenableFooterfalseenableIncludetrueCNNMarketsConfig'), (1, 'sectiondiv'), (1, 'sectionName'), (1, 'section'), (1, 'secret'), (1, 'searchtoggle'), (1, 'searchpgsection'), (1, 'searchfooterform'), (1, 'searchfieldform'), (1, 'searchbutton'), (1, 'scsec'), (1, 'scriptdatasetdsVal'), (1, 'screaming'), (1, 'scientists'), (1, 'schedule'), (1, 'saysthumbnailhttpi2cdnturnercomcnnnextdamassets151206152740sanbernardinosuspectfathersandovallklvnr00002122small11jpgdurationdescriptionSouthern'), (1, 'safariwebServiceURLhttpsalertshubcnncomdistributionhubwebsitePushIDwebcomcnnredalertCNNadTimers'), (1, 'runningthumbnailhttpi2cdnturnercomcnnnextdamassets151204012014cubavintagecarmechanicsripleyorig00004927small11jpgduration0114descriptionIn'), (1, 'roles'), (1, 'roadlayouticonTypevideourivideosus20151204historyofwomenintheusmilitarymssorigcnnheadlineHistory'), (1, 'revive'), (1, 'responsethumbnailhttpi2cdnturnercomcnnnextdamassets150129064944billgatessmall11jpgdurationdescriptionlayouturi20151201opinionsdeschobamaadvicesyriastrategyindexhtmlheadlineIs'), (1, 'response'), (1, 'residents'), (1, 'required'), (1, 'reportslayouticonTypevideourivideosus20150624origsutterclimatechangemarshallislandssinkingtwodegreescnnheadlineWhen'), (1, 'reportslayouticonTypevideouri20151206usmarylandmensetonfireindexhtmlheadlineHorrifying'), (1, 'reported'), (1, 'relive'), (1, 'registryURL'), (1, 'registryFilesplit0'), (1, 'regions'), (1, 'regional'), (1, 'refugees'), (1, 'refers'), (1, 'reeling'), (1, 'rebel'), (1, 'realistic'), (1, 'reader'), (1, 'rape'), (1, 'rain'), (1, 'questions'), (1, 'question'), (1, 'put'), (1, 'pushersthumbnailhttpi2cdnturnercomcnnnextdamassets120419141207liviacolinfirthsmall11jpgdurationdescriptionlayouturi20151117opinionsisisnomilitaryanswerpatonwalshindexhtmlheadlineTheres'), (1, 'pushargumentsscript'), (1, 'provided'), (1, 'prothumbnailhttpi2cdnturnercomcnnnextdamassets1511251147353caviarconciergesmall11jpgdurationdescriptionlayouticonTypegalleryuri20150608travelgalleryfuturisticplanesindexhtmlheadlineWhat'), (1, 'protection'), (1, 'prosperous'), (1, 'project'), (1, 'profiles'), (1, 'producerthumbnailhttpi2cdnturnercomcnnnextdamassets151202121309botswanadiamonds8small11jpgdurationdescriptionBotswana'), (1, 'prod'), (1, 'process'), (1, 'probably'), (1, 'prevailthumbnailhttpi2cdnturnercomcnnnextdamassets151206165846obama1201small11jpgdurationdescriptionlayouturi20151204middleeastgallerylifeinsideraqqaindexhtmlheadlineLife'), (1, 'prevailspanalilia'), (1, 'preferencesu003ca'), (1, 'preachers'), (1, 'powers'), (1, 'position'), (1, 'policy'), (1, 'plant'), (1, 'planners'), (1, 'planes'), (1, 'picks'), (1, 'phone'), (1, 'pgwrapper'), (1, 'pgsection'), (1, 'pgintlhomepage'), (1, 'pastlayouturi20151207entertainmentstarwarsforceawakensbb8creatorsfeatindexhtmlheadlineBB8s'), (1, 'passport'), (1, 'party'), (1, 'parkthumbnailhttpi2cdnturnercomcnnnextdamassets151130222027xiancitywall2small11jpgdurationdescriptionlayouturi20151206asiachennaiindiafloodsindexhtmlheadlineHundreds'), (1, 'pain'), (1, 'pageType'), (1, 'pageTopheadlineauthorshowNameisArticleVideoCollectionfalsepublishDate20151207T141736ZpageBrandingdefaultbrandingcontentpagedefaultbrandingcontentzonedefaultbrandingcontentcontainerdefaultdefiningmomentsbrandingcontentcard'), (1, 'page'), (1, 'own'), (1, 'others'), (1, 'otherif'), (1, 'opinions'), (1, 'opening'), (1, 'opena'), (1, 'one'), (1, 'officially'), (1, 'official'), (1, 'notoriously'), (1, 'nothingthumbnailhttpi2cdnturnercomcnnnextdamassets151119173035leeufanpacegallerylondon1small11jpgdurationdescriptionlayouturi20151207africainnovatorsafricanleadershipnetworkmarrakechbusinessindexhtmlheadlineInnovators'), (1, 'northern'), (1, 'norail'), (1, 'nondescript'), (1, 'nineyear'), (1, 'news'), (1, 'new'), (1, 'never'), (1, 'navigatoruserAgenttoLowerCaseif'), (1, 'nametextbutton'), (1, 'nametext'), (1, 'nameheaderSearchinput'), (1, 'namefooterSearch'), (1, 'named'), (1, 'name'), (1, 'mustwatchvideos'), (1, 'museum'), (1, 'murder'), (1, 'morning'), (1, 'moreu003ca'), (1, 'morecontainerul'), (1, 'monitors'), (1, 'moments'), (1, 'model'), (1, 'mobileSSID'), (1, 'mobile'), (1, 'mission'), (1, 'millions'), (1, 'million'), (1, 'militarythumbnailhttpi2cdnturnercomcnnnextdamassets151203221706womeninmilitary2small11jpgduration0126descriptionDefense'), (1, 'migrants'), (1, 'middleeast'), (1, 'microbreweries'), (1, 'mfootersubtitlesvideoli'), (1, 'mfootersubtitlestvli'), (1, 'mfootersubtitlesregionsli'), (1, 'mfootersubtitlesopinionsli'), (1, 'mfootersubtitlesnewsli'), (1, 'mfootersubtitlesmoreli'), (1, 'mfootersubtitlesfeaturesli'), (1, 'mfooterbucketwidgetsoldivdiv'), (1, 'mfooterbucketvideoli'), (1, 'mfooterbuckettvli'), (1, 'mfooterbucketregionsli'), (1, 'mfooterbucketopinionsli'), (1, 'mfooterbucketnewsli'), (1, 'mfooterbucketmoreli'), (1, 'mfooterbucketfeaturesli'), (1, 'message'), (1, 'men'), (1, 'memorabilia'), (1, 'mecreateElementscriptmtypetextjavascriptmasync0msrcstaticyieldmocomymm2jsegetElementsByTagNamehead0egetElementsByTagNamebody0appendChildmelse'), (1, 'me'), (1, 'market'), (1, 'mapthumbnailhttpi2cdnturnercomcnnnextdamassets150616145013152014twodegreessmall11jpgduration0522descriptionWhere'), (1, 'many'), (1, 'makes'), (1, 'major'), (1, 'love'), (1, 'looks'), (1, 'looking'), (1, 'looked'), (1, 'lives'), (1, 'little'), (1, 'listli'), (1, 'list'), (1, 'lines'), (1, 'lifting'), (1, 'lifethumbnailhttpi2cdnturnercomcnnnextdamassets151203165624raqqaboymournsbombattacksmall11jpgdurationdescriptionlayouturi20151206politicsobamaovalofficeaddressisisterrorindexhtmlheadlineObama'), (1, 'lifespanalilia'), (1, 'lfooterdiv'), (1, 'lfootercontentdivdivfooter'), (1, 'levitating'), (1, 'left'), (1, 'leads'), (1, 'leading'), (1, 'leaders'), (1, 'lazyLoad'), (1, 'layouturivideosworld20151207greecemigrantsstrandedwintershubertlklvcnnheadlineGreece'), (1, 'layouturi20151207ussanbernardinoshootingindexhtmlheadlineUS'), (1, 'layouturi20151207sportbruceleeonechampionshipmmaindexhtmlheadlineSearch'), (1, 'layouturi20151207africarwandasolarplantindexhtmlheadlineAfricashaped'), (1, 'layouturi20151206europefranceregionalelectionspollsfrontnationalgainsindexhtmlheadlineBig'), (1, 'layouturi20151206entertainmentkimkardashiankanyewestbabynamefeatindexhtmlheadlineInternet'), (1, 'layouturi20151203worldgalleryyearinpictures2015indexhtmlheadlineThe'), (1, 'layouturi20151126foodanddrinkillegalhomebrewedbeersthailandindexhtmlheadlineThirst'), (1, 'layouticonTypevideourivideosworld20151130saudiarabiaworldstallestbuildingjeddahtowerorigsdgcnnheadlineSaudi'), (1, 'layouticonTypevideourivideosworld20151127isisisilordaeshorigsdgcnnheadlineIs'), (1, 'layouticonTypegalleryuri20151207asiachinabeijingpollutionredalertindexhtmlheadlineBeijing'), (1, 'laterthumbnailhttpi2cdnturnercomcnnnextdamassets15113012461702splitchinacouple19452015small11jpegdurationdescriptionlayouturi20151128opinionssyriareportingkurtpeldaindexhtmlheadlineReporting'), (1, 'lastchilda'), (1, 'laborthumbnailhttpi2cdnturnercomcnnnextdamassets131218125900kimjongunwavesmall11jpgdurationdescriptionlayouturivideosworld20151204cubavintagecarmechanicsripleyorigcnnheadlineHow'), (1, 'labelsmallminWidth0labellargeminWidth768'), (1, 'know'), (1, 'killed'), (1, 'kill'), (1, 'kickthumbnailhttpi2cdnturnercomcnnnextdamassets15111823210101hollyholmsmall11jpgdurationdescriptionShe'), (1, 'jsusermsgclosedivdivdiv'), (1, 'jstrusteicon'), (1, 'jssearchtoggle'), (1, 'jsnavigationhamburgerdiv'), (1, 'jsnavigationdrawerdiv'), (1, 'jsnavigation'), (1, 'jsmeganavdivdivnavheaderdiv'), (1, 'jQueryparseHTMLdata'), (1, 'itthumbnaildurationdescriptionRingo'), (1, 'itspanspan'), (1, 'ireport'), (1, 'invasion'), (1, 'intltravel'), (1, 'intlhomepage1zone1intlhomepage1zone2intlhomepage1zone3intlhomepage1zone4intlhomepage2zone1intlhomepage3zone1intlhomepage3zone3intlhomepage3zone4'), (1, 'intlhomepage'), (1, 'interval20isVisibletruepageTypesectionresetDelay3resetThreshold17sectionNameintlhomepageBreaking'), (1, 'intersection'), (1, 'internationaltoUpperCasehost'), (1, 'interest'), (1, 'instanceof'), (1, 'installations'), (1, 'inpersistentCtaTextExperiencetemppassTempPassCNN10minmutedPlayerstartTime0stopInterval30stopTime0timeZoneGMTembedLinksclipboardOperationsSWFhttpicdnturnercomcnnvideoassetsCNNVideoClipboardCopyswfbuttonImagecdnassetpathbuildassetsembedvideobuttonpngimageButtonXOffset0imageButtonYOffset3embedLinkPatternu003ciframe'), (1, 'inpersistentCtaTextExperiencetemppassTempPassCNN10minCNNImageBreakpoints'), (1, 'infrastructure'), (1, 'independently'), (1, 'increased'), (1, 'inadvertently'), (1, 'improve'), (1, 'important'), (1, 'implications'), (1, 'impactlayouturi20151206travelchristmasdestinations2015indexhtmlheadlineThe'), (1, 'idym1201335581857396761'), (1, 'idweatherheader'), (1, 'idsearchInputNav'), (1, 'idsearchInputFooter'), (1, 'idnavheader'), (1, 'idjsweatherfooterdivdivdiv'), (1, 'idjsusermsgheadertext'), (1, 'idjsusermsgbodytext'), (1, 'idjssetepicspecfunction'), (1, 'idintlhomepage1zone1'), (1, 'idie8headerTextInternet'), (1, 'ideology'), (1, 'ideditionpickerwwwheader'), (1, 'ideditionpickerwwwfooter'), (1, 'ideditionpickeredtionheader'), (1, 'ideditionpickeredtionfooter'), (1, 'idcnnAPIJSscript'), (1, 'idbreakingnews'), (1, 'idadoopskin01'), (1, 'idadoopfloat01'), (1, 'idadmod85a882a72scriptNamehttpzcdnturnercomadscnnisinglescnnientitlement01jsidadmode74dbd68dscriptNamehttpzcdnturnercomadscnnisinglescnnientitlement02jsidadmod596291844scriptNamehttpzcdnturnercomadscnnisinglescnnientitlement03jsidadmod9a979d11scriptNamehttpzcdnturnercomadscnnisinglescnnientitlement04jsidadmod2b3ba0432scriptNamehttpzcdnturnercomadscnnisinglescnnientitlement05js'), (1, 'idadbnrbtf04'), (1, 'idadbnratf01'), (1, 'hurt'), (1, 'httpzcdnturnercomadscnnicnnihomepagejs'), (1, 'httptrafficoutbraincomnetworktrackpxladvid814actionviewCNNPushAlertsConfig'), (1, 'httpgocnncomstreamCNNDemandLoadConfig'), (1, 'httpdatacnncom1mspimmdatjQuerygetfetchUrl'), (1, 'httpavisualrevenuecomvrsjsxparentNodeinsertBefores'), (1, 'htmldocument'), (1, 'hrefworld'), (1, 'hrefus'), (1, 'hreftvshows'), (1, 'hreftvscheduleeurope'), (1, 'hreftravel'), (1, 'hreftranscriptsTranscriptsalili'), (1, 'hreftech'), (1, 'hrefstyle'), (1, 'hrefsport'), (1, 'hrefspecialstvanchorsandreporters'), (1, 'hrefspecialstravel'), (1, 'hrefspecialsstoriesworthwatchingvideo'), (1, 'hrefspecialsopinionscnnireport'), (1, 'hrefspecialsinternationalvideolandingvideosespanol'), (1, 'hrefspecialsinternationalvideolandingfeatureshowvideos'), (1, 'hrefmoneycnncomINTERNATIONAL'), (1, 'hrefmiddleeast'), (1, 'hrefhttpwwwturnercomcareersWork'), (1, 'hrefhttpwwwturnercom'), (1, 'hrefhttpwwwcnncom20151202worldchennaiindiafloodsirptis'), (1, 'hrefhttpcommercialcnncomAdvertise'), (1, 'hrefhttpcnnnewsourcecomCNN'), (1, 'hrefhelpHelpalili'), (1, 'hreffeedbackContact'), (1, 'hrefeurope'), (1, 'hrefentertainment'), (1, 'hrefcookieTell'), (1, 'hrefcollectionLicense'), (1, 'hrefchina'), (1, 'hrefasia'), (1, 'hrefamericas'), (1, 'hrefafrica'), (1, 'hrefaboutAbout'), (1, 'hrefAdChoicesalili'), (1, 'href20151207middleeastraqqaisisrefugeetestimonyindexhtmlimg'), (1, 'href20151207europelondontubestabbingsindexhtml'), (1, 'href20151207entertainmentringostarrauctionrecordindexhtml'), (1, 'href20151207entertainmentgrammynominations2016indexhtml'), (1, 'href20151207asiajapanghostshipindexhtml'), (1, 'href20151207asiachinabeijingpollutionredalertindexhtmlimg'), (1, 'href20151207asiachinabeijingpollutionredalertindexhtml'), (1, 'href20151207americasvenezuelaoelectionsindexhtml'), (1, 'href20151206politicsobamaovalofficeaddressisisterrorindexhtml'), (1, 'href20151204middleeastisissyriaraqqalifeindexhtml'), (1, 'href20151204middleeastgallerylifeinsideraqqaindexhtml'), (1, 'how'), (1, 'housethumbnailhttpi2cdnturnercomcnnnextdamassets140903181243sharifihagoodonesmall11jpgdurationdescriptionlayouturi20151130asiachinacouplerelivesweddingindexhtmlheadlineCouple'), (1, 'hostsearchwwwwuseditionnextcnncom'), (1, 'hostsearchwmoneycnncom'), (1, 'hostsearchwgooglew23ww'), (1, 'hostsearchwfacebookcom'), (1, 'host'), (1, 'honoredthumbnailhttpi2cdnturnercomcnnnextdamassets151202122928iraqiphotographertease4small11jpgdurationdescriptionlayouticonTypegalleryuri20151202worldgallerybotswanadiamondsindexhtmlheadlineInside'), (1, 'homesthumbnailhttpi2cdnturnercomcnnnextdamassets151130181344rwandasolar1small11jpgdurationdescriptionIts'), (1, 'history'), (1, 'highly'), (1, 'helped'), (1, 'height234'), (1, 'heaviest'), (1, 'head'), (1, 'hattricksthumbnailhttpi2cdnturnercomcnnnextdamassets151207123122vonnlouise04small11jpgdurationdescriptionlayouturi20151203sportkelseyandersontenniswifekevinindexhtmlheadlineIntimate'), (1, 'had'), (1, 'h2'), (1, 'gunman'), (1, 'grouplayouticonTypevideouri20151203asiagalleryindiafloodsindexhtmlheadlineIndia'), (1, 'group'), (1, 'grace'), (1, 'government'), (1, 'google'), (1, 'go'), (1, 'getting'), (1, 'getAirportDataairportstatusserviceHosthttpservicesfaagovCNNBannerBreakpoints'), (1, 'generation'), (1, 'gathering'), (1, 'gallery'), (1, 'gains'), (1, 'fwProfile'), (1, 'fwNetworkId'), (1, 'futurethumbnaildurationdescriptionlayouticonTypegalleryuri20151201opinionssextraffickingtenancingopolarisindexhtmlheadlineThe'), (1, 'functionetiftymvoid'), (1, 'functionDYAPIactions'), (1, 'full16x91101large781medium461mini0small308xsmall221CNNJumbotronConfig'), (1, 'front'), (1, 'frameborder0u003ciframenetworkcnnCNNWeatherConfig'), (1, 'foundthumbnailhttpi2cdnturnercomcnnnextdamassets15120517020801colombiagalleonmvd6733531small11jpgdurationdescriptionlayouturi20151207travelin24hoursnewyorktraintrackindexhtmlheadlineUS'), (1, 'fortune'), (1, 'foreditionpickerwwwheaderInternationallabellili'), (1, 'foreditionpickerwwwfooterInternationallabellili'), (1, 'foreditionpickeredtionheaderUSlabellili'), (1, 'foreditionpickeredtionfooterUSlabellili'), (1, 'forced'), (1, 'force'), (1, 'flames'), (1, 'fixated'), (1, 'firethumbnailhttpi2cdnturnercomcnnnextdamassets151206034221marylandfiresmall11jpgdurationdescriptionThe'), (1, 'find'), (1, 'few'), (1, 'fetchUrl'), (1, 'ferocious'), (1, 'feet'), (1, 'feedback'), (1, 'features'), (1, 'fastest'), (1, 'fast'), (1, 'fashion'), (1, 'falsewarn'), (1, 'falsevrqpushid'), (1, 'falsetimeStamp'), (1, 'falselog'), (1, 'falsegalleryAdClicks'), (1, 'falseenableShareButtons'), (1, 'falseenableOmniture'), (1, 'falseCNNAdsConfig'), (1, 'facility'), (1, 'facesofcnnworldwide'), (1, 'facebook'), (1, 'exporter'), (1, 'experience'), (1, 'exiled'), (1, 'evidence'), (1, 'everything'), (1, 'events'), (1, 'europe'), (1, 'establishing'), (1, 'escape'), (1, 'env'), (1, 'entry'), (1, 'entitlementSingletons'), (1, 'entertainmentzoneadIdadrectbtf02outBrainIdAR38healthzoneadIdadrectatf01outBrainIdSF8livingzoneadIdadrectatf01outBrainIdSF9politicszoneadIdadrectatf01outBrainIdSF6techzoneadIdadrectatf01outBrainIdSF7travelzoneadIdadrectatf01outBrainIdSF10uszoneadIdadrectatf01outBrainIdSF4worldzoneadIdadrectatf01outBrainIdSF5CNNTripAdvisor'), (1, 'entertainment'), (1, 'enter'), (1, 'ensued'), (1, 'enableGalleryAds'), (1, 'enableForCarouselstrueenableForImagestruethreshold300CNNFeatures'), (1, 'enableAdLock'), (1, 'emerged'), (1, 'electionsthumbnailhttpi2cdnturnercomcnnnextdamassets151206112322marionmarechallepenregionalelectionssmall11jpgdurationdescriptionFrances'), (1, 'elections'), (1, 'editioninternationaldiv'), (1, 'editioncnncommobilemobilewebhomepage'), (1, 'editioncnncommainhomepage'), (1, 'economylayouticonTypegalleryuri20151127foodanddrinkgallerycaviarconciergetipsindexhtmlheadlineHow'), (1, 'eat'), (1, 'easilylayouturi20151207artsleeufanlondontansaekhwaindexhtmlheadlineHes'), (1, 'easierthumbnailhttpi2cdnturnercomcnnnextdamassets151204163828innovatorsbanapadssmall11jpgdurationdescriptionThese'), (1, 'earning'), (1, 'earlier'), (1, 'dsValdetails'), (1, 'dsVal'), (1, 'drummed'), (1, 'drug'), (1, 'drawer'), (1, 'dozens'), (1, 'down'), (1, 'door'), (1, 'done'), (1, 'documentbodyclassName'), (1, 'document'), (1, 'docreferrerreplacehttpswi'), (1, 'doccreateElementscriptscriptsrc'), (1, 'diversify'), (1, 'dismissCookienametrusteConsentvaluetrueexpirationskiptrueheightsmall135medium110large130CNNVideoConfig'), (1, 'disabilitieslayouticonTypevideourivideosworld20151202allfemalekurdishunittakesonisispkgwedemancnntodaycnnheadlineAllfemale'), (1, 'directly'), (1, 'difficult'), (1, 'didnt'), (1, 'diamonds'), (1, 'diamond'), (1, 'dgetElementsByTagNamea0sasync'), (1, 'devicedismissCookienameNotifiedIE8SupportvaluetrueexpirationTue'), (1, 'developmental'), (1, 'detected'), (1, 'detailstypefor'), (1, 'detailssrcscriptasync'), (1, 'detailsdatasetdsValdocbodyappendChildscript'), (1, 'detailsdataset'), (1, 'detailsasyncscripttype'), (1, 'details'), (1, 'destinationthumbnailhttpi2cdnturnercomcnnnextdamassets151126125542malaysiathemeparkssunwaylagoon1small11jpgdurationdescriptionMalaysia'), (1, 'desktopSSID'), (1, 'dependence'), (1, 'defense'), (1, 'decadesu003calayouturi20151207americasartbaselmiamibeachstabbingindexhtmlheadlineKnife'), (1, 'debug'), (1, 'deadly'), (1, 'deadliest'), (1, 'dcreateElementax'), (1, 'daughter'), (1, 'date'), (1, 'datazonelabelZone'), (1, 'datavrzonezone00'), (1, 'datavrzonehometopcol2h2'), (1, 'datavrzonehometopcol1article'), (1, 'datavrcontentbox20151207middleeastraqqaisisrefugeetestimonyindexhtml'), (1, 'datavrcontentbox20151207europelondontubestabbingsindexhtml'), (1, 'datavrcontentbox20151207entertainmentringostarrauctionrecordindexhtml'), (1, 'datavrcontentbox20151207entertainmentgrammynominations2016indexhtml'), (1, 'datavrcontentbox20151207asiajapanghostshipindexhtml'), (1, 'datavrcontentbox20151207asiachinabeijingpollutionredalertindexhtml'), (1, 'datavrcontentbox20151207americasvenezuelaoelectionsindexhtml'), (1, 'datasrcxsmallhttpi2cdnturnercomcnnnextdamassets151201101510beijingsmog1128mediumteasejpg'), (1, 'datasrcxsmallhttpi2cdnturnercomcnnnextdamassets151105103638isisflagtankmediumteasejpg'), (1, 'datasrcsmallhttpi2cdnturnercomcnnnextdamassets151201101510beijingsmog1128largeteasejpg'), (1, 'datasrcsmallhttpi2cdnturnercomcnnnextdamassets151105103638isisflagtanklargeteasejpg'), (1, 'datasrcminihttpi2cdnturnercomcnnnextdamassets151201101510beijingsmog1128smallteasejpg'), (1, 'datasrcminihttpi2cdnturnercomcnnnextdamassets151105103638isisflagtanksmallteasejpg'), (1, 'datasrcmini1x1httpi2cdnturnercomcnnnextdamassets151201101510beijingsmog1128small11jpg'), (1, 'datasrcmini1x1httpi2cdnturnercomcnnnextdamassets151105103638isisflagtanksmall11jpg'), (1, 'datasrcmediumhttpi2cdnturnercomcnnnextdamassets151201101510beijingsmog1128overlayteasejpg'), (1, 'datasrcmediumhttpi2cdnturnercomcnnnextdamassets151105103638isisflagtankoverlayteasejpg'), (1, 'datasrclargehttpi2cdnturnercomcnnnextdamassets151201101510beijingsmog1128superteasejpg'), (1, 'datasrclargehttpi2cdnturnercomcnnnextdamassets151105103638isisflagtanksuperteasejpg'), (1, 'datasrcfull16x9httpi2cdnturnercomcnnnextdamassets151201101510beijingsmog1128full169jpg'), (1, 'datasrcfull16x9httpi2cdnturnercomcnnnextdamassets151105103638isisflagtankfull169jpg'), (1, 'datalocationheader'), (1, 'datalocationfooter'), (1, 'dataimghttpicdnturnercomcnneimg40logosimpactyourworldpng'), (1, 'dataimghttpicdnturnercomcnneimg40logosheroespng'), (1, 'dataimghttpicdnturnercomcnneimg40logosfreedomprojectjpg'), (1, 'dataimghttpicdnturnercomcnneimg40logoscnntwitterpng'), (1, 'dataimghttpicdnturnercomcnneimg40logoscnnmexicopng'), (1, 'dataimghttpicdnturnercomcnneimg40logoscnngooglepluspng'), (1, 'dataimghttpicdnturnercomcnneimg40logoscnnfacebookpng'), (1, 'dataimghttpicdnturnercomcnneimg40logoscnnespanolpng'), (1, 'dataimghttpicdnturnercomcnneimg40logoscnnarabicpng'), (1, 'dataimgbwhttpicdnturnercomcnneimg40logosimpactyourworldbwpng'), (1, 'dataimgbwhttpicdnturnercomcnneimg40logosheroesbwpng'), (1, 'dataimgbwhttpicdnturnercomcnneimg40logosfreedomprojectbwjpg'), (1, 'dataimgbwhttpicdnturnercomcnneimg40logoscnntwitterbwpng'), (1, 'dataimgbwhttpicdnturnercomcnneimg40logoscnnmexicobwpng'), (1, 'dataimgbwhttpicdnturnercomcnneimg40logoscnngoogleplusbwpng'), (1, 'dataimgbwhttpicdnturnercomcnneimg40logoscnnfacebookbwpng'), (1, 'dataimgbwhttpicdnturnercomcnneimg40logoscnnespanolbwpng'), (1, 'dataimgbwhttpicdnturnercomcnneimg40logoscnnarabicbwpng'), (1, 'datacontainers2div'), (1, 'dataanalyticslisthierarchicalpipedarticlediv'), (1, 'dataanalyticslisthierarchicalpipedarticlea'), (1, 'dataanalyticslisthierarchicalpipedarticle'), (1, 'dataanalyticsheaderweatherdivdiv'), (1, 'dataanalyticsheaderweatherWeatheralili'), (1, 'dataanalyticsheadervideoshowsShowsalili'), (1, 'dataanalyticsheadervideomustwatchvideosMust'), (1, 'dataanalyticsheadervideocnnenespaolCNN'), (1, 'dataanalyticsheadervideoVideoadiv'), (1, 'dataanalyticsheadertvtvshowsTV'), (1, 'dataanalyticsheadertvscheduleSchedulealili'), (1, 'dataanalyticsheadertvfacesofcnnworldwideFaces'), (1, 'dataanalyticsheadertvTVadiv'), (1, 'dataanalyticsheadertoolsextrasTools'), (1, 'dataanalyticsheaderregionsusUSalili'), (1, 'dataanalyticsheaderregionsmiddleeastMiddle'), (1, 'dataanalyticsheaderregionseuropeEuropealili'), (1, 'dataanalyticsheaderregionschinaChinaalili'), (1, 'dataanalyticsheaderregionsasiaAsiaalili'), (1, 'dataanalyticsheaderregionsamericasAmericasaliuldivlili'), (1, 'dataanalyticsheaderregionsafricaAfricaalili'), (1, 'dataanalyticsheaderregionsRegionsadiv'), (1, 'dataanalyticsheaderphotosPhotosalili'), (1, 'dataanalyticsheaderopinionsireportiReportaliuldivlili'), (1, 'dataanalyticsheaderopinionsOpinionsadiv'), (1, 'dataanalyticsheadernewsworldWorldalili'), (1, 'dataanalyticsheadernewstechTechnologyalili'), (1, 'dataanalyticsheadernewsstyleStylealili'), (1, 'dataanalyticsheadernewssportSportalili'), (1, 'dataanalyticsheadernewsmoneyMoneyaliuldivlili'), (1, 'dataanalyticsheadernewsintltravelTravelalili'), (1, 'dataanalyticsheadernewsentertainmentEntertainmentalili'), (1, 'dataanalyticsheadernewsNewsadiv'), (1, 'dataanalyticsheadermoreweatherWeatheralili'), (1, 'dataanalyticsheadermoretoolsextrasTools'), (1, 'dataanalyticsheadermorephotosPhotosalili'), (1, 'dataanalyticsheadermorecnnprofilesazCNN'), (1, 'dataanalyticsheadermorecnnmobileCNN'), (1, 'dataanalyticsheadermorecnnleadershipCNN'), (1, 'dataanalyticsheadermoreMore\\xe2\\x80\\xa6adiv'), (1, 'dataanalyticsheaderlogoadiv'), (1, 'dataanalyticsheaderfeaturestravelTravelalili'), (1, 'dataanalyticsheaderfeaturesallfeaturesAll'), (1, 'dataanalyticsheaderfeaturesFeaturesadiv'), (1, 'dataanalyticsheadercnnprofilesazCNN'), (1, 'dataanalyticsheadercnnmobileCNN'), (1, 'dataanalyticsheadercnnleadershipCNN'), (1, 'dataanalyticsfooterworkforus'), (1, 'dataanalyticsfootervideoshowshrefspecialsinternationalvideolandingfeatureshowvideosShowsalili'), (1, 'dataanalyticsfootervideomustwatchvideoshrefspecialsstoriesworthwatchingvideoMust'), (1, 'dataanalyticsfootervideocnnenespaolhrefspecialsinternationalvideolandingvideosespanolCNN'), (1, 'dataanalyticsfootervideoVideoaol'), (1, 'dataanalyticsfootertvtvshowshreftvshowsTV'), (1, 'dataanalyticsfootertvschedulehreftvscheduleeuropeSchedulealili'), (1, 'dataanalyticsfootertvfacesofcnnworldwidehrefspecialstvanchorsandreportersFaces'), (1, 'dataanalyticsfootertvTVaol'), (1, 'dataanalyticsfooterturnerbroadcastingsysteminc'), (1, 'dataanalyticsfootertranscripts'), (1, 'dataanalyticsfootertermsofuse'), (1, 'dataanalyticsfooterregionsushrefusUSalili'), (1, 'dataanalyticsfooterregionsmiddleeasthrefmiddleeastMiddle'), (1, 'dataanalyticsfooterregionseuropehrefeuropeEuropealili'), (1, 'dataanalyticsfooterregionschinahrefchinaChinaalili'), (1, 'dataanalyticsfooterregionsasiahrefasiaAsiaalili'), (1, 'dataanalyticsfooterregionsamericashrefamericasAmericasaliolliolol'), (1, 'dataanalyticsfooterregionsafricahrefafricaAfricaalili'), (1, 'dataanalyticsfooterregionsRegionsaol'), (1, 'dataanalyticsfooterprivacypolicy'), (1, 'dataanalyticsfooteropinionsireporthrefspecialsopinionscnnireportiReportaliolliolol'), (1, 'dataanalyticsfooteropinionsOpinionsaol'), (1, 'dataanalyticsfooternewsworldhrefworldWorldalili'), (1, 'dataanalyticsfooternewstechhreftechTechnologyalili'), (1, 'dataanalyticsfooternewsstylehrefstyleStylealili'), (1, 'dataanalyticsfooternewssporthrefsportSportalili'), (1, 'dataanalyticsfooternewsmoneyhrefmoneycnncomINTERNATIONALMoneyaliolliolol'), (1, 'dataanalyticsfooternewsintltravelhreftravelTravelalili'), (1, 'dataanalyticsfooternewsentertainmenthrefentertainmentEntertainmentalili'), (1, 'dataanalyticsfooternewsNewsaol'), (1, 'dataanalyticsfootermoreweatherhrefweatherWeatheralili'), (1, 'dataanalyticsfootermoretoolsextrashreftoolsTools'), (1, 'dataanalyticsfootermorephotoshrefspecialsphotosPhotosalili'), (1, 'dataanalyticsfootermorecnnprofilesazhrefspecialsprofilesCNN'), (1, 'dataanalyticsfootermorecnnmobilehrefinteractivemobileCNN'), (1, 'dataanalyticsfootermorecnnleadershiphrefspecialsmorecnnleadershipCNN'), (1, 'dataanalyticsfootermoreMore\\xe2\\x80\\xa6aol'), (1, 'dataanalyticsfooterlicensefootage'), (1, 'dataanalyticsfooterhelp'), (1, 'dataanalyticsfooterfeaturestravelhrefspecialstravelTravelalili'), (1, 'dataanalyticsfooterfeaturesallfeatureshrefspecialsAll'), (1, 'dataanalyticsfooterfeaturesFeaturesaol'), (1, 'dataanalyticsfootercontactus'), (1, 'dataanalyticsfootercnnnewsource'), (1, 'dataanalyticsfooteradvertisewithus'), (1, 'dataanalyticsfooteradchoices'), (1, 'dataanalyticsfooteraboutus'), (1, 'dataanalyticseditionpickerlogoadiv'), (1, 'dataanalyticsTop20StorieslisthierarchicalxsTop'), (1, 'data'), (1, 'danger'), (1, 'customs'), (1, 'current'), (1, 'crushed'), (1, 'cross'), (1, 'crime'), (1, 'cries'), (1, 'crew'), (1, 'creators'), (1, 'courtthumbnailhttpi2cdnturnercomcnnnextdamassets151207115946leytonstonesubwaystationsmall11jpgdurationdescriptionlayouturi20151207entertainmentringostarrauctionrecordindexhtmlheadlineRingo'), (1, 'courtspanspan'), (1, 'countrys'), (1, 'countries'), (1, 'converterServicecommonmodulesiframecurrencyConverterasplookupServiceservicescnndotcomlookupaspserviceHosthttpmarketsmoneycnncomCNNMetaRefreshRate'), (1, 'control'), (1, 'continuing'), (1, 'containera'), (1, 'contacting'), (1, 'considered'), (1, 'confused'), (1, 'companionAdStates'), (1, 'combat'), (1, 'coldthumbnailhttpi2cdnturnercomcnnnextdamassets151207030855greecemigrantsstrandedwintershubertbprsmall11jpgduration0222descriptionThe'), (1, 'cold'), (1, 'coast'), (1, 'cnnprofilesaz'), (1, 'cnnmobileweblinktag2CNNAirportDelaysConfig'), (1, 'cnnmobile'), (1, 'cnnleadership'), (1, 'cnnihomepagetry'), (1, 'cnnenespaol'), (1, 'cnncomif'), (1, 'cnn'), (1, 'cnlisthierarchicalxs'), (1, 'cnlisthierarchicalpiped'), (1, 'cnidx1'), (1, 'cnidx0'), (1, 'cncontainerB87E0BE9896BA08825EE79C14E6BB6C4'), (1, 'cncontainer13FE12B45E8F3855CB5357F9A13ED74F'), (1, 'classzntopdiv'), (1, 'classzntopbackgrounddivdivdiv'), (1, 'classznidx7'), (1, 'classznidx6'), (1, 'classznidx5'), (1, 'classznidx4'), (1, 'classznidx3'), (1, 'classznidx2'), (1, 'classznidx1'), (1, 'classzncontainersdiv'), (1, 'classzn'), (1, 'classymdivdiv'), (1, 'classweather'), (1, 'classutilities'), (1, 'classusermsgheadertextdivdiv'), (1, 'classusermsgheaderdiv'), (1, 'classusermsgdiv'), (1, 'classusermsgclose'), (1, 'classusermsgbodytextdivdivdivheader'), (1, 'classusermsgbodydiv'), (1, 'classtitleQuick'), (1, 'classspecials'), (1, 'classsignindivdiv'), (1, 'classsearchinputtextbutton'), (1, 'classsearchinputfield'), (1, 'classsearchinputbuttonbuttonformdivdivdiv'), (1, 'classsearchfooterforminput'), (1, 'classsearchbuttontextToggle'), (1, 'classsearchbuttontextSearchspanbuttonformdivdiv'), (1, 'classsearchbutton'), (1, 'classquicklinks'), (1, 'classpgnorail'), (1, 'classpgbackgroundimagewrapperdivdiv'), (1, 'classpg'), (1, 'classnavheader'), (1, 'classnav'), (1, 'classmtrusteicon'), (1, 'classmoremeganavsection'), (1, 'classmlegalul'), (1, 'classmlegallistli'), (1, 'classmlegallistitem'), (1, 'classmfooternav'), (1, 'classmfooterbucketgroupol'), (1, 'classmenucollapse'), (1, 'classmeganav'), (1, 'classmcopyrightspan'), (1, 'classmcopyrightoutercontainerdiv'), (1, 'classmcopyrightlinks'), (1, 'classmcopyrightinnercontainerdiv'), (1, 'classlfooterweather'), (1, 'classlfootertoolsweatherdiv'), (1, 'classlfootertoolsdiv'), (1, 'classlfootersearch'), (1, 'classlfooterdiv'), (1, 'classlfootercontentdiv'), (1, 'classlcontainerdivsection'), (1, 'classjstrustemodalCookie'), (1, 'classjscmcsfootercard'), (1, 'classhamburgerdivdivbutton'), (1, 'classeditionpickerdiv'), (1, 'classeditionpickera'), (1, 'classcopyrightcopy'), (1, 'classcontainera'), (1, 'classcontainer'), (1, 'classcntitle'), (1, 'classcmcssubscriptionwrapper'), (1, 'classcdstatus'), (1, 'classcdheadlinetextYet'), (1, 'classcdheadlinetextRingo'), (1, 'classcdheadlinetextRefugee'), (1, 'classcdheadlinetextOpposition'), (1, 'classcdheadlinetextLondon'), (1, 'classcdheadlinetextGrammy'), (1, 'classcdheadlinetextBeijing'), (1, 'classcdheadlineiconspanah3divdivarticleuldivdivdivsectionsection'), (1, 'classcdheadlineiconspanah3div'), (1, 'classcddescriptionpipedlinksullia'), (1, 'classcdcontentdiv'), (1, 'classbuckets'), (1, 'classbreakingnewstitletextBreaking'), (1, 'classbreakingnewstitlespan'), (1, 'classbreakingnewsmsgdivdivdivdivnav'), (1, 'classbreakingnewsdiv'), (1, 'classbreakingnewsclosebtndivdiv'), (1, 'classbreakingnewsbackgrounddiv'), (1, 'classbannertext'), (1, 'classadadoopskin01'), (1, 'classadadoopfloat01'), (1, 'classadadbnrbtf04'), (1, 'classadadbnratf01'), (1, 'citythumbnailhttpi2cdnturnercomcnnnextdamassets151205105604chennaifloodingworldvisionman1202small11jpgdurationdescriptionChennai'), (1, 'citySearchweathercitySearchenableInHeadertrueenableInFootertruegetForecastweathergetForecastserviceCitySearchHosthttpweathercnncomserviceForecastHosthttpweathercnncomstoredLocationsAmount6CNNZones'), (1, 'chose'), (1, 'china'), (1, 'changelayouturi20151203architecturetehrantransformerhousesharifihaindexhtmlheadlineTake'), (1, 'changed'), (1, 'centuries'), (1, 'cell'), (1, 'cdstatusbreakingCNN'), (1, 'cdidx5'), (1, 'cdidx4'), (1, 'cdidx3'), (1, 'cdidx2'), (1, 'cdidx1'), (1, 'cdhasbanner'), (1, 'caviar'), (1, 'categorieslayouturi20151207artsartbaselmiami2015indexhtmlheadlineBehaving'), (1, 'case'), (1, 'capture'), (1, 'capitalh2ah3'), (1, 'capacity'), (1, 'cannot'), (1, 'can'), (1, 'caliphate'), (1, 'calendar'), (1, 'c95680'), (1, 'c85600'), (1, 'c1451080CNNCNNXStreamUrl'), (1, 'c1351000'), (1, 'c125920'), (1, 'c115840'), (1, 'c105760'), (1, 'c000'), (1, 'buy'), (1, 'busy'), (1, 'build'), (1, 'brutal'), (1, 'browse'), (1, 'brought'), (1, 'breakingNewsttl120000urlhttpdatacnncomjsonpbreakingnewsinternationaljsonCNNGoFreePreviewConfig'), (1, 'bloody'), (1, 'billed'), (1, 'bikinithumbnaildurationdescriptionWere'), (1, 'biggest'), (1, 'beneath'), (1, 'before'), (1, 'becoming'), (1, 'because'), (1, 'battles'), (1, 'bannertextnaturalHorror'), (1, 'badly'), (1, 'back'), (1, 'babythumbnailhttpi2cdnturnercomcnnnextdamassets150930064715kanyewestkimksept10small11jpgdurationdescriptionTwitter'), (1, 'baby'), (1, 'aviation'), (1, 'avatarhostavatarcnncomembedscriptsinstagramjsplatforminstagramcomenUSembedsjstwitterjsplatformtwittercomwidgetsjslivefyrejscdnlivefyrecomLivefyrejsgigyaappId3gtUbleJNtrRITgx1mMci7GcIrH8xL9WVfAbzSa4zpFrRwnpqeYd8QTRkr7VCenableOnLeaftrueenableOnFirstZonetrueshareStatsPostURLhttpactioneventcnncomapiv1eventaddEventlivefyremobileCommentsBaseUrlhttpcnnbootstrapfyrecoapi11publiccommentsncommentsnetworkcnnfyrecositeId353270srcDomainhttpcdnlivefyrecomappembedappembed066msibauthUrlcnncommentslivefyreauthenticationbaseUrlhttpsaudiencecnncomservicescnnerrorUrlcnncommentslivefyreerrorloginUrlcnncommentslivefyreloginwhatsappbaseUrlwhatsappsendtextCNN'), (1, 'autoScrollEnabledfalseautoScrollInterval8000pauseAutoscrollWhenInvisibletruepauseVideoWhenInvisibletrueresponsiveContainerConstraintsmobile480tablet800desktop2500scrollPausesJumbotronInterval5000CNNLazyLoad'), (1, 'auctioning'), (1, 'attempted'), (1, 'attack'), (1, 'asia'), (1, 'artthumbnailhttpi2cdnturnercomcnnnextdamassets151207112605artbaselstabbingsmall11jpgdurationdescriptionA'), (1, 'articleListuri20151207middleeastraqqaisisrefugeetestimonyindexhtmlheadlineRefugee'), (1, 'around'), (1, 'armed'), (1, 'architecturelayouticonTypegalleryuri20151202artsgallerylatifalaniiraqiphotgrapherindexhtmlheadlinePhotographer'), (1, 'apply'), (1, 'apiloaderBaseURLFULLPATHhttpwwwcnncomelementwidgetvideovideoapiapiloaderBaseURLelementwidgetvideovideoapiapiloaderBaseURLLocalhttplocalhostcnncom3000buildapiversionlatestcollectionplayNextVideoTimeout1500goFreePreviewadobeEnvironmentprodaspenContextprev10endSlatectaTextSign'), (1, 'apiEndpointhttpmailcarcnncomapiv1'), (1, 'anyone'), (1, 'anymorelayouturi20151124travelrobyncurnowwwiipowchangisingaporeindexhtmlheadlineWhat'), (1, 'answerlayouticonTypevideourivideosworld20151201whoisreceptayyiperdoganandersonorigrtscnnheadlineWho'), (1, 'answer'), (1, 'announcedthumbnailhttpi2cdnturnercomcnnnextdamassets151127144936taylorswiftsmall11jpgdurationdescriptionThe'), (1, 'announcedspanspan'), (1, 'ancient'), (1, 'analytics'), (1, 'amznkey3288'), (1, 'among'), (1, 'americas'), (1, 'ambitious'), (1, 'amazon'), (1, 'amazing'), (1, 'altImpact'), (1, 'allfemale'), (1, 'allfeatures'), (1, 'alertthumbnailhttpi2cdnturnercomcnnnextdamassets151201101510beijingsmog1128small11jpgdurationdescriptionlayouturi20151207asiajapanghostshipindexhtmlheadlineYet'), (1, 'alertspanspan'), (1, 'ago'), (1, 'after'), (1, 'africa'), (1, 'affiliatescripthttpicdnturnercomcnnewidgettripadvisoraffiliatelinkercnntravelaffiliatelinkerminjspartnerHotelsapiKeyE6E67BB01FD2467688ED25D5F5BC095AapiBaseUrlhttpapitripadvisorcomapipartner20locationservicePathservicestravelpartnerHotelswidgetapiKeyE6E67BB01FD2467688ED25D5F5BC095AcsshttpicdnturnercomcnnewidgettripadvisorserviceinfocsscnntravelmapsmincssscripthttpicdnturnercomcnnewidgettripadvisorserviceinfocnntravelmapsbundleminjsmapapiMapboxapiKeypkeyJ1IjoiY25uZGlnaXRhbCIsImEiOiJhMmI0NTFkNWMzNmMyODU4NTQyMjQzNWFkM2I5OGFkMCJ9S01hv9vVgIbHvy1QuAsoyQoptionsKeymapboxaccesstokenCNNUserMessageConfig'), (1, 'adrefreshadbodydivdivdivvar'), (1, 'adrefreshadbodydivdivbodyhtml'), (1, 'adobeEnvironmentprodaspenContextprev10endSlatectaTextSign'), (1, 'adivsectiondivliuldivdiv'), (1, 'adallskindiv'), (1, 'adalldiv'), (1, 'activist'), (1, 'according'), (1, 'able'), (1, 'Yorkthumbnailhttpi2cdnturnercomcnnnextdamassets151205130833nyin24hourstrack61travel00001005small11jpgdurationdescriptionAn'), (1, 'Worldwidealiuldivlili'), (1, 'Worldwidealiolliolol'), (1, 'Worldimg'), (1, 'Worldalili'), (1, 'WorldImpact'), (1, 'Will'), (1, 'What'), (1, 'We\\xe2\\x80\\x99ve'), (1, 'Wests'), (1, 'Wedeman'), (1, 'Weather'), (1, 'WWII'), (1, 'Video'), (1, 'Usealili'), (1, 'Uptown'), (1, 'UTColdCookieNametosAgreedoldCookieExpirationTue'), (1, 'UTCheightsmall140medium120large130idtosheaderTextOur'), (1, 'UTCheightsmall120medium100large110idtrusteheaderTextCookie'), (1, 'UTCexpirationPeriod2592000000oldCookieNamenoneoldCookieExpirationTue'), (1, 'Twitterimg'), (1, 'Twitteralili'), (1, 'TwitterCNN'), (1, 'They'), (1, 'The'), (1, 'Thailands'), (1, 'Terms'), (1, 'Tehrans'), (1, 'Taylor'), (1, 'Syriathumbnailhttpi2cdnturnercomcnnnextdamassets151021131251syriaisisairstrikebombsmall11jpgdurationdescriptionGetting'), (1, 'Syrian'), (1, 'Syed'), (1, 'Swift'), (1, 'Sutter'), (1, 'Suriname'), (1, 'Stringvoid'), (1, 'Storiesh2article'), (1, 'Southeast'), (1, 'Sloth'), (1, 'Slaughtered'), (1, 'Silently'), (1, 'Shubert'), (1, 'Serviceu003cadismissCookienameCNNtosAgreedvaluetrueexpirationTue'), (1, 'Secretary'), (1, 'Searchspanbuttondivdiv'), (1, 'Schumerthumbnailhttpi2cdnturnercomcnnnextdamassets151130142417teasepirelliamyschumersmall11jpgdurationdescriptionlayouturi20151201opinionsghitisparisclimatetalksindexhtmlheadlineHow'), (1, 'Saddam'), (1, 'Russos'), (1, 'Rizwan'), (1, 'Ripley'), (1, 'Rights'), (1, 'Reservedspandivdiv'), (1, 'Regional'), (1, 'Raqqathumbnailhttpi2cdnturnercomcnnnextdamassets151203165804raqqachildrenstudysmall11jpgdurationdescriptionIts'), (1, 'Raqqaspanaliuldivdivdivarticleuldivdiv'), (1, 'Putin'), (1, 'Projectimg'), (1, 'Projectaliuldivdiv'), (1, 'ProjectCNN'), (1, 'Privacy'), (1, 'Presidents'), (1, 'President'), (1, 'Policyu003ca'), (1, 'Policyalili'), (1, 'Policy'), (1, 'Park'), (1, 'POWthumbnailhttpi2cdnturnercomcnnnextdamassets151124165455oxley1small11jpgdurationdescriptionlayouturi20151127travelmalaysiathemeparksindexhtmlheadlineWorlds'), (1, 'Once'), (1, 'Obamathumbnailhttpi2cdnturnercomcnnnextdamassets150928153854barackobamavladimirputintoastsmall11jpgdurationdescriptionlayouturi20151202opinionsmillerobamawishlistindexhtmlheadlineObamas'), (1, 'Obama'), (1, 'Not'), (1, 'Newsspandivdiv'), (1, 'Newsourcealiuldivdivdivdivdivfooterscript'), (1, 'New'), (1, 'Network'), (1, 'National'), (1, 'Mysterious'), (1, 'Muslim'), (1, 'Much'), (1, 'Monday'), (1, 'Migrants'), (1, 'Midtown'), (1, 'Miamithumbnailhttpi2cdnturnercomcnnnextdamassets151207120608artbaselmiamihomepagetease3small11jpgdurationdescriptionlayouturi20151206travelchinaxiancitywallindexhtmlheadlineChinese'), (1, 'Mexicoimg'), (1, 'Mexicoalili'), (1, 'MexicoCNN'), (1, 'Maryland'), (1, 'Marshall'), (1, 'Manhattan'), (1, 'Linkslili'), (1, 'Lindsey'), (1, 'Leethumbnailhttpi2cdnturnercomcnnnextdamassets151204150129bruceleeteasesmall11jpgdurationdescriptionlayouturi20151203sportgallerysportspictures2015indexhtmlheadlineWhat'), (1, 'Leadershipaliuldiv'), (1, 'Leadershipaliolliolol'), (1, 'Leadershipalili'), (1, 'Lamar'), (1, 'Lady'), (1, 'Korea'), (1, 'Kong'), (1, 'Kimyes'), (1, 'Kim'), (1, 'Khalifa'), (1, 'Kendrick'), (1, 'Kardashian'), (1, 'Kanye'), (1, 'Jupiter'), (1, 'Journalists'), (1, 'John'), (1, 'Its'), (1, 'Israel'), (1, 'Islands'), (1, 'Islamic'), (1, 'Intl'), (1, 'Inland'), (1, 'Indias'), (1, 'Inca'), (1, 'IncTurner'), (1, 'Impact'), (1, 'ISISthumbnailhttpi2cdnturnercomcnnnextdamassets151201193213wedemanallfemalekurdishunitfightsisisstill1small11pngduration0319descriptionAn'), (1, 'ISISthumbnailhttpi2cdnturnercomcnnnextdamassets150626170106isisflagsmall11jpgdurationdescriptionlayouturi20151113techpioneerswomenscientistsindexhtmlheadlineWomen'), (1, 'ISISthumbnailhttpi2cdnturnercomcnnnextdamassets150226160941leaddntsciuttojihadijohnunmasked00000000small11jpgdurationdescriptionlayouturi20151029asianorthkoreaunforcedlaboroverseasindexhtmlheadlineNorth'), (1, 'However'), (1, 'Hong'), (1, 'Homepage'), (1, 'Heroesimg'), (1, 'Heroesalili'), (1, 'HeroesCNN'), (1, 'Hear'), (1, 'Have'), (1, 'GreekMacedonian'), (1, 'Grammy'), (1, 'Googleimg'), (1, 'Googlealili'), (1, 'GoogleCNN'), (1, 'Girllayouturi20151008middleeastisisrapetheologysoldiersrapewomentomakethemmuslimindexhtmlheadlineISIS'), (1, 'Gates'), (1, 'Front'), (1, 'Footagealili'), (1, 'Featuresaliuldivlili'), (1, 'Featuresaliolliolol'), (1, 'Farook'), (1, 'Facebookimg'), (1, 'Facebookalili'), (1, 'FacebookCNN'), (1, 'FN'), (1, 'Explorer'), (1, 'Exclusivediva'), (1, 'Espa\\xc3\\xb1olimg'), (1, 'Espa\\xc3\\xb1olaliuldivlili'), (1, 'Espa\\xc3\\xb1olaliolliolol'), (1, 'Espa\\xc3\\xb1olalili'), (1, 'Espa\\xc3\\xb1olCNN'), (1, 'Erdoganthumbnailhttpi2cdnturnercomcnnnextdamassets151201182202whoisreceptayyiperdoganandersonorig00002718small11jpgduration0226descriptionCNNs'), (1, 'ErdoganlayouticonTypevideourivideosworld20151130chinalevitatingcarsmysterysolvedorigsdgcnnheadlineMystery'), (1, 'Entertainment'), (1, 'English'), (1, 'England'), (1, 'Easton'), (1, 'DategetTimescript'), (1, 'Daeshthumbnailhttpi2cdnturnercomcnnnextdamassets151127115516isissmall11jpgduration0123descriptionMany'), (1, 'Daesh'), (1, 'DYAPIactions'), (1, 'ConsentmessageTextWe'), (1, 'Christmas'), (1, 'Chinas'), (1, 'Chennaithumbnailhttpi2cdnturnercomcnnnextdamassets151204094733indiachennaiflood1small11jpgdurationdescriptionlayouticonTypegalleryuri20151202aviationgalleryairportcontroltowerscarolynrussoindexhtmlheadlineArt'), (1, 'ChangedmessageTextBy'), (1, 'Center'), (1, 'Carter'), (1, 'Carolyn'), (1, 'Cable'), (1, 'CNNpageTimer'), (1, 'CNNeventTimers'), (1, 'CNNcontentModelanalyticscaptopicssplitswindow'), (1, 'CNNcontentModel'), (1, 'CNNcomvar'), (1, 'CNNcom'), (1, 'CNNUtilsexistsCNNcontentModelanalyticscaptopics'), (1, 'CNNSocialConfig'), (1, 'By'), (1, 'Burj'), (1, 'Bruce'), (1, 'Brinkley'), (1, 'Bill'), (1, 'Ben'), (1, 'Being'), (1, 'Becky'), (1, 'Beatles'), (1, 'Barack'), (1, 'BB8s'), (1, 'Awards'), (1, 'Avenue'), (1, 'Atika'), (1, 'Asiathumbnailhttpi2cdnturnercomcnnnextdamassets151116155459gromley13small11jpgdurationdescriptionOne'), (1, 'Asia'), (1, 'Ash'), (1, 'Arabicimg'), (1, 'Arabicalili'), (1, 'ArabicCNN'), (1, 'Anderson'), (1, 'Amy'), (1, 'All'), (1, 'Airports'), (1, 'Africa'), (1, 'AK47sthumbnailhttpi2cdnturnercomcnnnextdamassets151105103638isisflagtanksmall11jpgdurationdescriptionlayouturi20151204middleeastisissyriaraqqalifeindexhtmlheadlineWe'), (1, 'AK47sspanspan'), (1, '8766314API'), (1, '8'), (1, '75'), (1, '70'), (1, '6layouturi20151207travelenglandwaterfallmalhamcoveindexhtmlheadlineHeavy'), (1, '58th'), (1, '558'), (1, '48804'), (1, '46'), (1, '4'), (1, '396vrqpushautomate'), (1, '2016thumbnailhttpi2cdnturnercomcnnnextdamassets151130163752barackobamacop21small11jpgdurationdescriptionlayouturi20151201opinionsdrexlerbrinkleyschumerpirellicalendarindexhtmlheadlineReal'), (1, '2016layouticonTypevideourivideosus20151203sanbernardinomassshootingtimelinemssorigcnnheadlineTimeline'), (1, '2015thumbnailhttpi2cdnturnercomcnnnextdamassets151201110012restricted77yearinsportssmall11jpgdurationdescriptionSee'), (1, '2015thumbnailhttpi2cdnturnercomcnnnextdamassets15112516193317poy2015restrictedsmall11jpgdurationdescriptionlayouticonTypegalleryuri20151204worldextremesolarsystemsindexhtmlheadlineFat'), (1, '2'), (1, '1toLowerCasewinedition'), (1, '1km'), (1, '1800CNNOptimizelyConfig'), (1, '16'), (1, '15000'), (1, '1100'), (1, '10'), (1, '1'), (1, '0tymvar'), (1, '0tymchkPlstymchkPlsdocumentwindow')]\n"
     ]
    }
   ],
   "source": [
    "class OrderedWebWordsFrequency(WebWordsFrequency):\n",
    "    def getWordsFrequency(self, reverse=True):\n",
    "        if len(self.sitelist)==0: return None # 없을 경우 None 반환\n",
    "        counter={}\n",
    "        if len(self.sitelist)==0: return None # 없을 경우 None 반환\n",
    "        for site in self.sitelist:\n",
    "            source = urllib2.urlopen(site).read()\n",
    "\n",
    "            for i in range(0, source.count('<!--')):\n",
    "                if source.find(\"<!--\") != -1:\n",
    "                    source = source.replace(source[source.find(\"<!--\"):source.find(\"-->\")+3:],\"\")\n",
    "\n",
    "            for i in range(0,source.count(\"<\")):\n",
    "                if source.find(\"<\") != -1:\n",
    "                    source = source.replace(source[source.find(\"<\"):source.find(\">\")+1:],\"\")\n",
    "\n",
    "            words = source.split()\n",
    "\n",
    "            i=0\n",
    "            ilength=len(words)\n",
    "            while i < ilength:\n",
    "                j=0\n",
    "                jlength=len(words[i])\n",
    "                while j < jlength:\n",
    "                    if words[i][j] in string.punctuation:\n",
    "                        words[i]=words[i].replace(words[i][j], '')\n",
    "                        j-=1\n",
    "                        jlength=len(words[i])\n",
    "                    j+=1\n",
    "\n",
    "                if len(words[i])==0:\n",
    "                    words.pop(i)\n",
    "                    ilength-=1\n",
    "                    i-=1\n",
    "                elif words[i] in self.ig_words: #불용어 제거\n",
    "                    words.pop(i)\n",
    "                    ilength-=1\n",
    "                    i-=1\n",
    "                else:\n",
    "                    if words[i] in counter:\n",
    "                        counter[words[i]]+=1\n",
    "                    else:\n",
    "                        counter[words[i]]=1\n",
    "                i+=1\n",
    "        self.counter=counter\n",
    "        \n",
    "        counter=[]\n",
    "        temp=self.counter.keys()\n",
    "        for i in temp:\n",
    "            counter.append((self.counter[i], i ))\n",
    "\n",
    "        k=reverse\n",
    "        counter.sort(reverse=k)\n",
    "        print counter\n",
    "\n",
    "w4 = OrderedWebWordsFrequency('http://www.cnn.com')\n",
    "w4.getWordsFrequency(reverse=True)"
   ]
  },
  {
   "cell_type": "markdown",
   "metadata": {},
   "source": [
    "#Assignment 5-15"
   ]
  },
  {
   "cell_type": "code",
   "execution_count": null,
   "metadata": {
    "collapsed": true
   },
   "outputs": [],
   "source": []
  }
 ],
 "metadata": {
  "kernelspec": {
   "display_name": "Python 2",
   "language": "python",
   "name": "python2"
  },
  "language_info": {
   "codemirror_mode": {
    "name": "ipython",
    "version": 2
   },
   "file_extension": ".py",
   "mimetype": "text/x-python",
   "name": "python",
   "nbconvert_exporter": "python",
   "pygments_lexer": "ipython2",
   "version": "2.7.9"
  }
 },
 "nbformat": 4,
 "nbformat_minor": 0
}
