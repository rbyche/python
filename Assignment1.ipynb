{
 "cells": [
  {
   "cell_type": "markdown",
   "metadata": {},
   "source": [
    "# 프로젝트 오일러 1번"
   ]
  },
  {
   "cell_type": "code",
   "execution_count": null,
   "metadata": {
    "collapsed": true
   },
   "outputs": [],
   "source": [
    "result=0L\n",
    "for i in range(1001):\n",
    "    if i%3==0: result+=i\n",
    "    if i%5==0:\n",
    "        if i%3==0: continue\n",
    "        else: result+=i\n",
    "print result"
   ]
  },
  {
   "cell_type": "markdown",
   "metadata": {},
   "source": [
    "overflow를 방지하기 위하여 Long형으로 임의 설정하였고\n",
    "3의 배수일 경우 result변수에 값을 더하고\n",
    "5의 배수일 경우 3의 배수와 겹치는 부분이 반복 계산될 수 있기에 if문으로 검사 후\n",
    "5의 배수만 더하여 결과를 출력합니다."
   ]
  },
  {
   "cell_type": "markdown",
   "metadata": {},
   "source": [
    "# 프로젝트 오일러 2번"
   ]
  },
  {
   "cell_type": "code",
   "execution_count": 2,
   "metadata": {
    "collapsed": false
   },
   "outputs": [
    {
     "name": "stdout",
     "output_type": "stream",
     "text": [
      "4613732\n"
     ]
    }
   ],
   "source": [
    "def fibo(i,j):\n",
    "    if i+j>4000000: return 0\n",
    "    else:\n",
    "        if (i+j)%2==0: return i+j+fibo(j, i+j)\n",
    "        else: return fibo(j, i+j)\n",
    "\n",
    "print 2+fibo(1,2)"
   ]
  },
  {
   "cell_type": "markdown",
   "metadata": {},
   "source": [
    "fibo재귀함수를 써서 400만 전까지 호출한 후 연쇄적으로 return받은 값들은 더합니다."
   ]
  },
  {
   "cell_type": "markdown",
   "metadata": {},
   "source": [
    "# 프로젝트 오일러 3번"
   ]
  },
  {
   "cell_type": "code",
   "execution_count": 3,
   "metadata": {
    "collapsed": false
   },
   "outputs": [
    {
     "name": "stdout",
     "output_type": "stream",
     "text": [
      "6857\n"
     ]
    }
   ],
   "source": [
    "target=600851475143\n",
    "for i in range(2, 10000):\n",
    "    while target%i==0:\n",
    "        target/=i\n",
    "        maximum=i\n",
    "print maximum"
   ]
  },
  {
   "cell_type": "markdown",
   "metadata": {},
   "source": [
    "목표값을 2부터 순서대로 소수를 찾아가며 마지막으로 나누어 떨어지는 수를 출력합니다."
   ]
  },
  {
   "cell_type": "markdown",
   "metadata": {},
   "source": [
    "# Assignment1-1"
   ]
  },
  {
   "cell_type": "code",
   "execution_count": 11,
   "metadata": {
    "collapsed": false,
    "scrolled": true
   },
   "outputs": [
    {
     "name": "stdout",
     "output_type": "stream",
     "text": [
      "Python Hello\n"
     ]
    }
   ],
   "source": [
    "a=\"Hello Python\" \n",
    "a=a[6::]+\" \"+a[0:5]\n",
    "print a"
   ]
  },
  {
   "cell_type": "markdown",
   "metadata": {},
   "source": [
    "slicing을 사용하여 6번째부터 마지막까지 0번부터 5번까지 잘라 순서를 바꿔 출력합니다."
   ]
  },
  {
   "cell_type": "markdown",
   "metadata": {},
   "source": [
    "# Assignment1-2"
   ]
  },
  {
   "cell_type": "code",
   "execution_count": 18,
   "metadata": {
    "collapsed": false
   },
   "outputs": [
    {
     "name": "stdout",
     "output_type": "stream",
     "text": [
      "World Python Hello\n"
     ]
    }
   ],
   "source": [
    "b=\"Hello Python World\"\n",
    "b=b[13::]+b[5:13:]+b[0:5]\n",
    "print b"
   ]
  },
  {
   "cell_type": "markdown",
   "metadata": {},
   "source": [
    "1번 문제와 마찬가지로 slicing을 사용하여 순서를 바꿔 출력합니다."
   ]
  },
  {
   "cell_type": "markdown",
   "metadata": {},
   "source": [
    "# Assignment1-3"
   ]
  },
  {
   "cell_type": "code",
   "execution_count": 25,
   "metadata": {
    "collapsed": false
   },
   "outputs": [
    {
     "name": "stdout",
     "output_type": "stream",
     "text": [
      "olleH\n"
     ]
    }
   ],
   "source": [
    "c=\"Hello\"\n",
    "c=c[::-1]\n",
    "print c"
   ]
  },
  {
   "cell_type": "markdown",
   "metadata": {},
   "source": [
    "slicing을 역순으로 사용하여 순서를 바꿔 출력합니다."
   ]
  },
  {
   "cell_type": "code",
   "execution_count": 43,
   "metadata": {
    "collapsed": false
   },
   "outputs": [
    {
     "name": "stdout",
     "output_type": "stream",
     "text": [
      "p\n",
      "p\n",
      "p\n",
      "ytho\n",
      "\n"
     ]
    }
   ],
   "source": [
    "s=\"python\"\n",
    "print s[0] #첫번째 원소 P가 출력\n",
    "print s[0][0] #2차원배열이더라도 첫번째 원소 P가 출력\n",
    "print s[0][0][0] #3차원배열이더라도 첫번재 원소 P가 출력\n",
    "#print s[-100] #overflow로 에러 출력\n",
    "#print s[100] #overflow로 에러 출력\n",
    "#print s[-100, 100] #overflow로 에러 출력\n",
    "print s[1:-1] #-1은 마지막 원소이므로 두번째 원소부터 마지막 원소 전까지 출력\n",
    "print s[3:-3] #-3은 h이고 3도 h이므로 시작과 동시에 종료->공백 출력"
   ]
  },
  {
   "cell_type": "markdown",
   "metadata": {},
   "source": [
    "주석으로 작성"
   ]
  },
  {
   "cell_type": "markdown",
   "metadata": {},
   "source": [
    "# Assignment1-4"
   ]
  },
  {
   "cell_type": "code",
   "execution_count": 50,
   "metadata": {
    "collapsed": false
   },
   "outputs": [
    {
     "name": "stdout",
     "output_type": "stream",
     "text": [
      "1\n",
      "3\n",
      "6\n",
      "9\n",
      "12\n",
      "15\n",
      "18\n",
      "21\n",
      "24\n",
      "27\n",
      "30\n",
      "33\n",
      "36\n",
      "39\n",
      "42\n",
      "45\n",
      "48\n",
      "51\n",
      "54\n",
      "57\n",
      "60\n",
      "63\n",
      "66\n",
      "69\n",
      "72\n",
      "75\n",
      "78\n",
      "81\n",
      "84\n",
      "87\n",
      "90\n",
      "93\n",
      "96\n",
      "99\n"
     ]
    }
   ],
   "source": [
    "for i in range(1, 101):\n",
    "    if i%3==0 or i==1: print i"
   ]
  },
  {
   "cell_type": "markdown",
   "metadata": {},
   "source": [
    "if문으로 1부터 3으로 나누어 떨어지는 수(홀수)들을 100까지 출력합니다."
   ]
  },
  {
   "cell_type": "markdown",
   "metadata": {},
   "source": [
    "# Assignment1-5"
   ]
  },
  {
   "cell_type": "code",
   "execution_count": 9,
   "metadata": {
    "collapsed": false
   },
   "outputs": [
    {
     "name": "stdout",
     "output_type": "stream",
     "text": [
      "2450\n"
     ]
    }
   ],
   "source": [
    "i=1\n",
    "maximum=0\n",
    "while i<100:\n",
    "    if i%2==0: maximum+=i\n",
    "    i+=1\n",
    "print maximum"
   ]
  },
  {
   "cell_type": "markdown",
   "metadata": {},
   "source": [
    "while문으로 100까지 루프를 돌며 2로 나누어 떨어지는 수(짝수)의 합을 구해 출력합니다."
   ]
  },
  {
   "cell_type": "markdown",
   "metadata": {
    "collapsed": true
   },
   "source": [
    "# Assignment1-6"
   ]
  },
  {
   "cell_type": "code",
   "execution_count": 16,
   "metadata": {
    "collapsed": false
   },
   "outputs": [
    {
     "name": "stdout",
     "output_type": "stream",
     "text": [
      "정수를 입력하세요:\n",
      "654\n",
      "숫자 역순은 456입니다.\n"
     ]
    }
   ],
   "source": [
    "print \"정수를 입력하세요:\"\n",
    "a = input()\n",
    "s = str(a)\n",
    "print \"숫자 역순은 \"+s[::-1]+\"입니다.\""
   ]
  },
  {
   "cell_type": "markdown",
   "metadata": {},
   "source": [
    "input함수를 입력받은 정수를 str함수로 문자열로 바꾸고 3번처럼 slicing함수를\n",
    "이용하여 역순으로 출력합니다."
   ]
  },
  {
   "cell_type": "markdown",
   "metadata": {},
   "source": [
    "# 숙제이후 소감"
   ]
  },
  {
   "cell_type": "markdown",
   "metadata": {},
   "source": [
    "파이썬을 처음 접하여 처음엔 너무 생소했지만 과제를 하며 많이 익숙해졌습니다.\n",
    "수업 중 가비지컬렉터의 원리나 알고리즘에 대해 설명해주시면 좋을 것 같습니다."
   ]
  }
 ],
 "metadata": {
  "kernelspec": {
   "display_name": "Python 2",
   "language": "python",
   "name": "python2"
  },
  "language_info": {
   "codemirror_mode": {
    "name": "ipython",
    "version": 2
   },
   "file_extension": ".py",
   "mimetype": "text/x-python",
   "name": "python",
   "nbconvert_exporter": "python",
   "pygments_lexer": "ipython2",
   "version": "2.7.9"
  }
 },
 "nbformat": 4,
 "nbformat_minor": 0
}
