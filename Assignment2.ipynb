{
 "cells": [
  {
   "cell_type": "markdown",
   "metadata": {},
   "source": [
    "# Assignment2-1"
   ]
  },
  {
   "cell_type": "code",
   "execution_count": 2,
   "metadata": {
    "collapsed": false
   },
   "outputs": [
    {
     "name": "stdout",
     "output_type": "stream",
     "text": [
      "4\n",
      "1\n",
      "2\n",
      "2\n",
      "1\n",
      "3\n"
     ]
    }
   ],
   "source": [
    "print 1 and 2 and 3 and 4 #모두 참인지 확인 후 리턴하므로 마지막 숫자가 출력\n",
    "print 1 or 2 or 3 or 4 #첫번째 숫자 1이 참이므로 뒤는 확인하지 않고 1을 출력\n",
    "print 1 and 2 or 3 and 4 #1과 2가 참이고 or를 만나므로 2를 출력\n",
    "print (1 and 2) or (3 and 4) #1과 2가 and인지 확인 후 or를 만나므로 2를 출력\n",
    "print 1 or 2 and 3 or 4 #첫번째 숫자 1이 참이므로 뒤는 확인하지 않고 1을 출력\n",
    "print (1 or 2) and (3 or 4) #1과 2가 or인지 학인 후 and이므로 3을 확인 or이므로 3을 출력"
   ]
  },
  {
   "cell_type": "markdown",
   "metadata": {},
   "source": [
    "# Assignment2-2"
   ]
  },
  {
   "cell_type": "code",
   "execution_count": 3,
   "metadata": {
    "collapsed": false
   },
   "outputs": [
    {
     "name": "stdout",
     "output_type": "stream",
     "text": [
      "Input num: 3\n",
      "0b11\n",
      "양수\n"
     ]
    }
   ],
   "source": [
    "a=raw_input('Input num: ')\n",
    "binary=bin(int(a))\n",
    "print binary\n",
    "if binary[0]=='-':\n",
    "    print \"음수\"\n",
    "else:\n",
    "    print \"양수\""
   ]
  },
  {
   "cell_type": "markdown",
   "metadata": {},
   "source": [
    "# Assignment2-3"
   ]
  },
  {
   "cell_type": "code",
   "execution_count": 1,
   "metadata": {
    "collapsed": false
   },
   "outputs": [
    {
     "name": "stdout",
     "output_type": "stream",
     "text": [
      "['/home/chulsoo', 'test.txt']\n",
      "['/usr/local/bin', 'python']\n"
     ]
    }
   ],
   "source": [
    "def div_path(s):\n",
    "    pathlist=s.split('/')\n",
    "    path=s[:len(s)-len(pathlist[-1])-1]\n",
    "    name=pathlist[-1]\n",
    "    return [path, name]\n",
    "\n",
    "print div_path('/home/chulsoo/test.txt')\n",
    "print div_path('/usr/local/bin/python')"
   ]
  },
  {
   "cell_type": "markdown",
   "metadata": {},
   "source": [
    "# Assignment2-4"
   ]
  },
  {
   "cell_type": "code",
   "execution_count": 11,
   "metadata": {
    "collapsed": false
   },
   "outputs": [
    {
     "name": "stdout",
     "output_type": "stream",
     "text": [
      "[1, 2, 3, 4]\n",
      "[-10, -5, -1, 0, 9, 100]\n",
      "[0, 1, 2]\n"
     ]
    }
   ],
   "source": [
    "def list_union(lista, listb):\n",
    "        lista=lista+listb\n",
    "        lista=list(set(lista))\n",
    "        lista.sort()\n",
    "        return lista\n",
    "        \n",
    "print list_union([1, 2, 3], [1, 2, 4])\n",
    "print list_union([-10, -5, 0, -1], [100, 9, 0, 9])\n",
    "print list_union([0, 1, 2], [0, 1, 2])"
   ]
  },
  {
   "cell_type": "markdown",
   "metadata": {},
   "source": [
    "#프로젝트 오일러 4번"
   ]
  },
  {
   "cell_type": "code",
   "execution_count": 5,
   "metadata": {
    "collapsed": false
   },
   "outputs": [
    {
     "name": "stdout",
     "output_type": "stream",
     "text": [
      "906609\n"
     ]
    }
   ],
   "source": [
    "maximum=0\n",
    "for i in range(100, 1000):\n",
    "    for j in range(100, 1000):\n",
    "        temp=i*j\n",
    "        result=str(temp)\n",
    "        if result[:len(result)/2:]==result[:len(result)/2-1:-1]:\n",
    "            if maximum<temp: maximum=temp     \n",
    "print maximum"
   ]
  },
  {
   "cell_type": "markdown",
   "metadata": {},
   "source": [
    "#프로젝트 오일러 5번"
   ]
  },
  {
   "cell_type": "code",
   "execution_count": 7,
   "metadata": {
    "collapsed": false
   },
   "outputs": [
    {
     "name": "stdout",
     "output_type": "stream",
     "text": [
      "232792560\n"
     ]
    }
   ],
   "source": [
    "for i in range(1, 300000000):\n",
    "    if i%2!=0 or i%3!=0 or i%5!=0: continue\n",
    "    for j in range(4, 21):\n",
    "        if i%j!=0: break\n",
    "        if j==20: print i"
   ]
  },
  {
   "cell_type": "markdown",
   "metadata": {},
   "source": [
    "#프로젝트 오일러 6번"
   ]
  },
  {
   "cell_type": "code",
   "execution_count": 6,
   "metadata": {
    "collapsed": false
   },
   "outputs": [
    {
     "name": "stdout",
     "output_type": "stream",
     "text": [
      "25164150\n"
     ]
    }
   ],
   "source": [
    "add=0\n",
    "addsqrt=0\n",
    "for i in range(1, 101):\n",
    "    add+=(i**2)\n",
    "for j in range(1, 101):\n",
    "    addsqrt+=j\n",
    "print addsqrt**2-add"
   ]
  },
  {
   "cell_type": "markdown",
   "metadata": {},
   "source": [
    "#Incremental Project"
   ]
  },
  {
   "cell_type": "code",
   "execution_count": 13,
   "metadata": {
    "collapsed": false
   },
   "outputs": [
    {
     "name": "stdout",
     "output_type": "stream",
     "text": [
      "276\n",
      "[\"Google(function(){window.google={kEI:'RmINVrSBEYeMmgWRuJaYDQ',kEXPI:'3700269,4029815,4031109,4032677,4033307,4033344,4034882,4036527,4037334,4037569,4038012,4041440,4041507,4041836,4041899,4042180,4042491,4043255,4043411,4043448,4043449,4043564,4044246,4044339,4044606,4044864,4045003,4045711,4045716,4045841,4045872,4046023,4046304,4046400,4046422,4047135,4047317,4047492,4047530,4047549,4047600,4047683,4047913,4048007,4048011,4048093,4048362,4048512,4048836,4048854,8300199,8300202,8501973,8501980,8502094,8502221,8502248,8502312,8502313,10200083,10201270',authuser:0,kscs:'c9c918f0_10'};google.kHL='ko';})();(function(){google.lc=[];google.li=0;google.getEI=function(a){for(var\", 'b;a&&(!a.getAttribute||!(b=a.getAttribute(\"eid\")));)a=a.parentNode;return', 'b||google.kEI};google.getLEI=function(a){for(var', 'b=null;a&&(!a.getAttribute||!(b=a.getAttribute(\"leid\")));)a=a.parentNode;return', 'b};google.https=function(){return\"https:\"==window.location.protocol};google.ml=function(){return', 'null};google.time=function(){return(new', 'Date).getTime()};google.log=function(a,b,d,e,g){a=google.logUrl(a,b,d,e,g);if(\"\"!=a){b=new', 'Image;var', 'c=google.lc,f=google.li;c[f]=b;b.onerror=b.onload=b.onabort=function(){delete', 'c[f]};window.google&&window.google.vel&&window.google.vel.lu&&window.google.vel.lu(a);b.src=a;google.li=f+1}};google.logUrl=function(a,b,d,e,g){var', 'c=\"\",f=google.ls||\"\";if(!d&&-1==b.search(\"&ei=\")){var', 'h=google.getEI(e),c=\"&ei=\"+h;-1==b.search(\"&lei=\")&&((e=google.getLEI(e))?c+=\"&lei=\"+e:h!=google.kEI&&(c+=\"&lei=\"+google.kEI))}a=d||\"/\"+(g||\"gen_204\")+\"?atyp=i&ct=\"+a+\"&cad=\"+b+c+f+\"&zx=\"+google.time();/^http:/i.test(a)&&google.https()&&(google.ml(Error(\"a\"),!1,{src:a,glmm:1}),a=\"\");return', 'a};google.y={};google.x=function(a,b){google.y[a.id]=[a,b];return!1};google.load=function(a,b,d){google.x({id:a+k++},function(){google.load(a,b,d)})};var', 'k=0;})();var', '_gjwl=location;function', '_gjuc(){var', 'a=_gjwl.href.indexOf(\"#\");if(0(function(){window.google={kEI:\\'RmINVrSBEYeMmgWRuJaYDQ\\',kEXPI:\\'3700269,4029815,4031109,4032677,4033307,4033344,4034882,4036527,4037334,4037569,4038012,4041440,4041507,4041836,4041899,4042180,4042491,4043255,4043411,4043448,4043449,4043564,4044246,4044339,4044606,4044864,4045003,4045711,4045716,4045841,4045872,4046023,4046304,4046400,4046422,4047135,4047317,4047492,4047530,4047549,4047600,4047683,4047913,4048007,4048011,4048093,4048362,4048512,4048836,4048854,8300199,8300202,8501973,8501980,8502094,8502221,8502248,8502312,8502313,10200083,10201270\\',authuser:0,kscs:\\'c9c918f0_10\\'};google.kHL=\\'ko\\';})();(function(){google.lc=[];google.li=0;google.getEI=function(a){for(var', 'b;a&&(!a.getAttribute||!(b=a.getAttribute(\"eid\")));)a=a.parentNode;return', 'b||google.kEI};google.getLEI=function(a){for(var', 'b=null;a&&(!a.getAttribute||!(b=a.getAttribute(\"leid\")));)a=a.parentNode;return', 'b};google.https=function(){return\"https:\"==window.location.protocol};google.ml=function(){return', 'null};google.time=function(){return(new', 'Date).getTime()};google.log=function(a,b,d,e,g){a=google.logUrl(a,b,d,e,g);if(\"\"!=a){b=new', 'Image;var', 'c=google.lc,f=google.li;c[f]=b;b.onerror=b.onload=b.onabort=function(){delete', 'c[f]};window.google&&window.google.vel&&window.google.vel.lu&&window.google.vel.lu(a);b.src=a;google.li=f+1}};google.logUrl=function(a,b,d,e,g){var', 'c=\"\",f=google.ls||\"\";if(!d&&-1==b.search(\"&ei=\")){var', 'h=google.getEI(e),c=\"&ei=\"+h;-1==b.search(\"&lei=\")&&((e=google.getLEI(e))?c+=\"&lei=\"+e:h!=google.kEI&&(c+=\"&lei=\"+google.kEI))}a=d||\"/\"+(g||\"gen_204\")+\"?atyp=i&ct=\"+a+\"&cad=\"+b+c+f+\"&zx=\"+google.time();/^http:/i.test(a)&&google.https()&&(google.ml(Error(\"a\"),!1,{src:a,glmm:1}),a=\"\");return', 'a};google.y={};google.x=function(a,b){google.y[a.id]=[a,b];return!1};google.load=function(a,b,d){google.x({id:a+k++},function(){google.load(a,b,d)})};var', 'k=0;})();var', '_gjwl=location;function', '_gjuc(){var', 'a=_gjwl.href.indexOf(\"#\");if(0<=a&&(a=_gjwl.href.substring(a),0(function(){window.google={kEI:\\'RmINVrSBEYeMmgWRuJaYDQ\\',kEXPI:\\'3700269,4029815,4031109,4032677,4033307,4033344,4034882,4036527,4037334,4037569,4038012,4041440,4041507,4041836,4041899,4042180,4042491,4043255,4043411,4043448,4043449,4043564,4044246,4044339,4044606,4044864,4045003,4045711,4045716,4045841,4045872,4046023,4046304,4046400,4046422,4047135,4047317,4047492,4047530,4047549,4047600,4047683,4047913,4048007,4048011,4048093,4048362,4048512,4048836,4048854,8300199,8300202,8501973,8501980,8502094,8502221,8502248,8502312,8502313,10200083,10201270\\',authuser:0,kscs:\\'c9c918f0_10\\'};google.kHL=\\'ko\\';})();(function(){google.lc=[];google.li=0;google.getEI=function(a){for(var', 'b;a&&(!a.getAttribute||!(b=a.getAttribute(\"eid\")));)a=a.parentNode;return', 'b||google.kEI};google.getLEI=function(a){for(var', 'b=null;a&&(!a.getAttribute||!(b=a.getAttribute(\"leid\")));)a=a.parentNode;return', 'b};google.https=function(){return\"https:\"==window.location.protocol};google.ml=function(){return', 'null};google.time=function(){return(new', 'Date).getTime()};google.log=function(a,b,d,e,g){a=google.logUrl(a,b,d,e,g);if(\"\"!=a){b=new', 'Image;var', 'c=google.lc,f=google.li;c[f]=b;b.onerror=b.onload=b.onabort=function(){delete', 'c[f]};window.google&&window.google.vel&&window.google.vel.lu&&window.google.vel.lu(a);b.src=a;google.li=f+1}};google.logUrl=function(a,b,d,e,g){var', 'c=\"\",f=google.ls||\"\";if(!d&&-1==b.search(\"&ei=\")){var', 'h=google.getEI(e),c=\"&ei=\"+h;-1==b.search(\"&lei=\")&&((e=google.getLEI(e))?c+=\"&lei=\"+e:h!=google.kEI&&(c+=\"&lei=\"+google.kEI))}a=d||\"/\"+(g||\"gen_204\")+\"?atyp=i&ct=\"+a+\"&cad=\"+b+c+f+\"&zx=\"+google.time();/^http:/i.test(a)&&google.https()&&(google.ml(Error(\"a\"),!1,{src:a,glmm:1}),a=\"\");return', 'a};google.y={};google.x=function(a,b){google.y[a.id]=[a,b];return!1};google.load=function(a,b,d){google.x({id:a+k++},function(){google.load(a,b,d)})};var', 'k=0;})();var', '_gjwl=location;function', '_gjuc(){var', 'a=_gjwl.href.indexOf(\"#\");if(0<=a&&(a=_gjwl.href.substring(a),0<a.indexOf(\"&q=\")||0(function(){window.google={kEI:\\'RmINVrSBEYeMmgWRuJaYDQ\\',kEXPI:\\'3700269,4029815,4031109,4032677,4033307,4033344,4034882,4036527,4037334,4037569,4038012,4041440,4041507,4041836,4041899,4042180,4042491,4043255,4043411,4043448,4043449,4043564,4044246,4044339,4044606,4044864,4045003,4045711,4045716,4045841,4045872,4046023,4046304,4046400,4046422,4047135,4047317,4047492,4047530,4047549,4047600,4047683,4047913,4048007,4048011,4048093,4048362,4048512,4048836,4048854,8300199,8300202,8501973,8501980,8502094,8502221,8502248,8502312,8502313,10200083,10201270\\',authuser:0,kscs:\\'c9c918f0_10\\'};google.kHL=\\'ko\\';})();(function(){google.lc=[];google.li=0;google.getEI=function(a){for(var', 'b;a&&(!a.getAttribute||!(b=a.getAttribute(\"eid\")));)a=a.parentNode;return', 'b||google.kEI};google.getLEI=function(a){for(var', 'b=null;a&&(!a.getAttribute||!(b=a.getAttribute(\"leid\")));)a=a.parentNode;return', 'b};google.https=function(){return\"https:\"==window.location.protocol};google.ml=function(){return', 'null};google.time=function(){return(new', 'Date).getTime()};google.log=function(a,b,d,e,g){a=google.logUrl(a,b,d,e,g);if(\"\"!=a){b=new', 'Image;var', 'c=google.lc,f=google.li;c[f]=b;b.onerror=b.onload=b.onabort=function(){delete', 'c[f]};window.google&&window.google.vel&&window.google.vel.lu&&window.google.vel.lu(a);b.src=a;google.li=f+1}};google.logUrl=function(a,b,d,e,g){var', 'c=\"\",f=google.ls||\"\";if(!d&&-1==b.search(\"&ei=\")){var', 'h=google.getEI(e),c=\"&ei=\"+h;-1==b.search(\"&lei=\")&&((e=google.getLEI(e))?c+=\"&lei=\"+e:h!=google.kEI&&(c+=\"&lei=\"+google.kEI))}a=d||\"/\"+(g||\"gen_204\")+\"?atyp=i&ct=\"+a+\"&cad=\"+b+c+f+\"&zx=\"+google.time();/^http:/i.test(a)&&google.https()&&(google.ml(Error(\"a\"),!1,{src:a,glmm:1}),a=\"\");return', 'a};google.y={};google.x=function(a,b){google.y[a.id]=[a,b];return!1};google.load=function(a,b,d){google.x({id:a+k++},function(){google.load(a,b,d)})};var', 'k=0;})();var', '_gjwl=location;function', '_gjuc(){var', 'a=_gjwl.href.indexOf(\"#\");if(0<=a&&(a=_gjwl.href.substring(a),0<a.indexOf(\"&q=\")||0<=a.indexOf(\"#q=\"))&&(a=a.substring(1),-1==a.indexOf(\"#\"))){for(var', \"d=0;d(function(){window.google={kEI:'RmINVrSBEYeMmgWRuJaYDQ',kEXPI:'3700269,4029815,4031109,4032677,4033307,4033344,4034882,4036527,4037334,4037569,4038012,4041440,4041507,4041836,4041899,4042180,4042491,4043255,4043411,4043448,4043449,4043564,4044246,4044339,4044606,4044864,4045003,4045711,4045716,4045841,4045872,4046023,4046304,4046400,4046422,4047135,4047317,4047492,4047530,4047549,4047600,4047683,4047913,4048007,4048011,4048093,4048362,4048512,4048836,4048854,8300199,8300202,8501973,8501980,8502094,8502221,8502248,8502312,8502313,10200083,10201270',authuser:0,kscs:'c9c918f0_10'};google.kHL='ko';})();(function(){google.lc=[];google.li=0;google.getEI=function(a){for(var\", 'b;a&&(!a.getAttribute||!(b=a.getAttribute(\"eid\")));)a=a.parentNode;return', 'b||google.kEI};google.getLEI=function(a){for(var', 'b=null;a&&(!a.getAttribute||!(b=a.getAttribute(\"leid\")));)a=a.parentNode;return', 'b};google.https=function(){return\"https:\"==window.location.protocol};google.ml=function(){return', 'null};google.time=function(){return(new', 'Date).getTime()};google.log=function(a,b,d,e,g){a=google.logUrl(a,b,d,e,g);if(\"\"!=a){b=new', 'Image;var', 'c=google.lc,f=google.li;c[f]=b;b.onerror=b.onload=b.onabort=function(){delete', 'c[f]};window.google&&window.google.vel&&window.google.vel.lu&&window.google.vel.lu(a);b.src=a;google.li=f+1}};google.logUrl=function(a,b,d,e,g){var', 'c=\"\",f=google.ls||\"\";if(!d&&-1==b.search(\"&ei=\")){var', 'h=google.getEI(e),c=\"&ei=\"+h;-1==b.search(\"&lei=\")&&((e=google.getLEI(e))?c+=\"&lei=\"+e:h!=google.kEI&&(c+=\"&lei=\"+google.kEI))}a=d||\"/\"+(g||\"gen_204\")+\"?atyp=i&ct=\"+a+\"&cad=\"+b+c+f+\"&zx=\"+google.time();/^http:/i.test(a)&&google.https()&&(google.ml(Error(\"a\"),!1,{src:a,glmm:1}),a=\"\");return', 'a};google.y={};google.x=function(a,b){google.y[a.id]=[a,b];return!1};google.load=function(a,b,d){google.x({id:a+k++},function(){google.load(a,b,d)})};var', 'k=0;})();var', '_gjwl=location;function', '_gjuc(){var', 'a=_gjwl.href.indexOf(\"#\");if(0<=a&&(a=_gjwl.href.substring(a),0<a.indexOf(\"&q=\")||0<=a.indexOf(\"#q=\"))&&(a=a.substring(1),-1==a.indexOf(\"#\"))){for(var', 'd=0;d<a.length;){var', 'b=d;\"&\"==a.charAt(b)&&++b;var', 'c=a.indexOf(\"&\",b);-1==c&&(c=a.length);b=a.substring(b,c);if(0==b.indexOf(\"fp=\"))a=a.substring(0,d)+a.substring(c,a.length),c=d;else', 'if(\"cad=h\"==b)return', '0;d=c}_gjwl.href=\"/search?\"+a+\"&cad=h\";return', '1}return', '0}', 'function', '_gjh(){!_gjuc()&&window.google&&google.x&&google.x({id:\"GJH\"},function(){google.nav&&google.nav.gjh&&google.nav.gjh()})};window._gjh&&_gjh();#gbar,#guser{font-size:13px;padding-top:1px', '!important;}#gbar{height:22px}#guser{padding-bottom:7px', '!important;text-align:right}.gbh,.gbd{border-top:1px', 'solid', '#c9d7f1;font-size:1px}.gbh{height:0;position:absolute;top:24px;width:100%}@media', 'all{.gb1{height:22px;margin-right:.5em;vertical-align:top}#gbar{float:left}}a.gb1,a.gb4{text-decoration:underline', '!important}a.gb1,a.gb4{color:#00c', '!important}.gbi', '.gb4{color:#dd8e27', '!important}.gbf', '.gb4{color:#900', '!important}', 'body,td,a,p,.h{font-family:\\xb1\\xbc\\xb8\\xb2,\\xb5\\xb8\\xbf\\xf2,arial,sans-serif}.ko{font-size:9pt}body{margin:0;overflow-y:scroll}#gog{padding:3px', '8px', '0}td{line-height:.8em}.gac_m', 'td{line-height:17px}form{margin-bottom:20px}.h{color:#36c}.q{color:#00c}.ts', 'td{padding:0}.ts{border-collapse:collapse}em{font-weight:bold;font-style:normal}.lst{height:25px;width:496px}.gsfi,.lst{font:18px', 'arial,sans-serif}.gsfs{font:17px', 'arial,sans-serif}.ds{display:inline-box;display:inline-block;margin:3px', '0', '4px;margin-left:4px}input{font-family:inherit}a.gb1,a.gb2,a.gb3,a.gb4{color:#11c', '!important}body{background:#fff;color:black}a{color:#11c;text-decoration:none}a:hover,a:active{text-decoration:underline}.fl', 'a{color:#36c}a:visited{color:#551a8b}a.gb1,a.gb4{text-decoration:underline}a.gb3:hover{text-decoration:none}#ghead', 'a.gb2:hover{color:#fff', '!important}.sblc{padding-top:5px}.sblc', 'a{display:block;margin:2px', '0;margin-left:13px;font-size:11px}.lsbb{background:#eee;border:solid', '1px;border-color:#ccc', '#999', '#999', '#ccc;height:30px}.lsbb{display:block}.ftl,#fll', 'a{display:inline-block;margin:0', '12px}.lsb{background:url(/images/srpr/nav_logo80.png)', '0', '-258px', 'repeat-x;border:none;color:#000;cursor:pointer;height:30px;margin:0;outline:0;font:15px', 'arial,sans-serif;vertical-align:top}.lsb:active{background:#ccc}.lst:focus{outline:none}.tiah{width:458px}(function(){var', \"src='/images/nav_logo229.png';var\", 'iesg=false;document.body.onload', '=', 'function(){window.n', '&&', 'window.n();if', '(document.images){new', 'Image().src=src;}', 'if', '(!iesg){document.f&&document.f.q.focus();document.gbqf&&document.gbqf.q.focus();}', '}', '})();', '\\xb0\\xcb\\xbb\\xf6', '\\xc0\\xcc\\xb9\\xcc\\xc1\\xf6', '\\xc1\\xf6\\xb5\\xb5', 'Play', 'YouTube', '\\xb4\\xba\\xbd\\xba', 'Gmail', '\\xb5\\xe5\\xb6\\xf3\\xc0\\xcc\\xba\\xea', '\\xb4\\xf5\\xba\\xb8\\xb1\\xe2', '&raquo;\\xc0\\xa5', '\\xb1\\xe2\\xb7\\xcf', '|', '\\xbc\\xb3\\xc1\\xa4', '|', '\\xb7\\xce\\xb1\\xd7\\xc0\\xce', '.pmoabs{background-color:#fff;border:1px', 'solid', '#E5E5E5;color:#666;font-size:13px;padding-bottom:20px;position:absolute;right:2px;top:3px;z-index:986}#pmolnk{border-radius:2px;-moz-border-radius:2px;-webkit-border-radius:2px}.kd-button-submit{border:1px', 'solid', '#3079ed;background-color:#4d90fe;background-image:-webkit-gradient(linear,left', 'top,left', \"bottom,from(#4d90fe),to(#4787ed));background-image:-webkit-linear-gradient(top,#4d90fe,#4787ed);background-image:-moz-linear-gradient(top,#4d90fe,#4787ed);background-image:-ms-linear-gradient(top,#4d90fe,#4787ed);background-image:-o-linear-gradient(top,#4d90fe,#4787ed);background-image:linear-gradient(top,#4d90fe,#4787ed);filter:progid:DXImageTransform.Microsoft.gradient(startColorStr='#4d90fe',EndColorStr='#4787ed')}.kd-button-submit:hover{border:1px\", 'solid', '#2f5bb7;background-color:#357ae8;background-image:-webkit-gradient(linear,left', 'top,left', \"bottom,from(#4d90fe),to(#357ae8));background-image:-webkit-linear-gradient(top,#4d90fe,#357ae8);background-image:-moz-linear-gradient(top,#4d90fe,#357ae8);background-image:-ms-linear-gradient(top,#4d90fe,#357ae8);background-image:-o-linear-gradient(top,#4d90fe,#357ae8);background-image:linear-gradient(top,#4d90fe,#357ae8);filter:progid:DXImageTransform.Microsoft.gradient(startColorStr='#4d90fe',EndColorStr='#357ae8')}.kd-button-submit:active{-webkit-box-shadow:inset\", '0', '1px', '2px', 'rgba(0,0,0,0.3);-moz-box-shadow:inset', '0', '1px', '2px', 'rgba(0,0,0,0.3);box-shadow:inset', '0', '1px', '2px', 'rgba(0,0,0,0.3)}#pmolnk', 'a{color:#fff;display:inline-block;font-weight:bold;padding:5px', '20px;text-decoration:none;white-space:nowrap}.xbtn{color:#999;cursor:pointer;font-size:23px;line-height:5px;padding-top:5px}.padi{padding:0', '8px', '0', '10px}.padt{padding:5px', '20px', '0', '0;color:#444}.pads{text-align:left;max-width:200px}', '&times;', '\\xb4\\xf5\\xbf\\xed', '\\xc6\\xed\\xb8\\xae\\xc7\\xd1', '\\xc0\\xa5', '\\xc5\\xbd\\xbb\\xf6', '\\xc8\\xaf\\xb0\\xe6', 'Google', 'Chrome', '\\xb4\\xd9\\xbf\\xee\\xb7\\xce\\xb5\\xe5', '(function(){var', 'a={v:{}};a.v.Ja=50;a.v.Ha=10;a.v.oa=\"body\";a.v.kb=!0;a.v.nb=function(b,c){var', 'd=a.v.Va();a.v.Xa(d,b,c);a.v.ob(d);a.v.kb&&a.v.lb(d)};a.v.ob=function(b){(b=a.v.qa(b))&&0(function(){var', 'a={v:{}};a.v.Ja=50;a.v.Ha=10;a.v.oa=\"body\";a.v.kb=!0;a.v.nb=function(b,c){var', 'd=a.v.Va();a.v.Xa(d,b,c);a.v.ob(d);a.v.kb&&a.v.lb(d)};a.v.ob=function(b){(b=a.v.qa(b))&&0<b.forms.length&&b.forms[0].submit()};a.v.Va=function(){var', 'b=document.createElement(\"iframe\");b.height=0;b.width=0;b.style.overflow=\"hidden\";b.style.top=b.style.left=\"-100px\";b.style.position=\"absolute\";document.body.appendChild(b);return', 'b};a.v.qa=function(b){return', 'b.contentDocument||b.contentWindow.document};a.v.Xa=function(b,c,d){b=a.v.qa(b);b.open();d=[\"\\'];for(var', 'e', 'in', 'c)c.hasOwnProperty(e)&&d.push(\\'\\',c[e],\"\");d.push(\"a.v.Ha?google&&google.ml&&google.ml(Error(\"ogcdr\"),!1,{cause:\"timeout\"}):b.contentWindow?a.v.mb(b):window.setTimeout(function(){a.v.ta(b,c+1)},a.v.Ja)};a.v.mb=function(b){document.body.removeChild(b)};a.v.lb=function(b){a.v.Ta(b,\"load\",function(){a.v.ta(b,0)})};a.v.Ta=function(b,c,d){b.addEventListener?b.addEventListener(c,d,!1):b.attachEvent&&b.attachEvent(\"on\"+c,d)};var', 'm={rb:0,N:1,O:2,U:5};a.s={};a.s.W={Da:\"i\",T:\"d\",Fa:\"l\"};a.s.K={X:\"0\",P:\"1\"};a.s.Y={V:1,T:2,S:3};a.s.I={xa:\"a\",Ba:\"g\",M:\"c\",Pa:\"u\",Oa:\"t\",X:\"p\",Ia:\"pid\",za:\"eid\",Qa:\"at\"};a.s.Ea=window.location.protocol+\"//www.google.com/_/og/promos/\";a.s.Aa=\"g\";a.s.Ra=\"z\";a.s.ia=function(b,c,d,e){var', 'f=null;switch(c){case', 'm.N:f=window.gbar.up.gpd(b,d,!0);break;case', 'm.U:f=window.gbar.up.gcc(e)}return', 'null==f?0:parseInt(f,10)};a.s.ab=function(b,c,d){return', 'c==m.N?null!=window.gbar.up.gpd(b,d,!0):!1};a.s.Z=function(b,c,d,e,f,h,k,l){var', 'g={};g[a.s.I.X]=b;g[a.s.I.Ba]=c;g[a.s.I.xa]=d;g[a.s.I.Qa]=e;g[a.s.I.za]=f;g[a.s.I.Ia]=1;k&&(g[a.s.I.M]=k);l&&(g[a.s.I.Pa]=l);if(h)g[a.s.I.Oa]=h;else', 'return', 'google.ml(Error(\"knu\"),!1,{cause:\"Token', 'is', 'not', 'found\"}),null;return', 'g};a.s.la=function(b,c,d){if(b){var', 'e=c?a.s.Aa:a.s.Ra;c&&d&&(e+=\"?authuser=\"+d);a.v.nb(b,a.s.Ea+e)}};a.s.Wa=function(b,c,d,e,f,h,k){b=a.s.Z(c,b,a.s.W.T,a.s.Y.T,d,f,null,e);a.s.la(b,h,k)};a.s.Za=function(b,c,d,e,f,h,k){b=a.s.Z(c,b,a.s.W.Da,a.s.Y.V,d,f,e,null);a.s.la(b,h,k)};a.s.jb=function(b,c,d,e,f,h,k,l,g,n){switch(c){case', 'm.U:window.gbar.up.dpc(e,f);break;case', 'm.N:window.gbar.up.spd(b,d,1,!0);break;case', 'm.O:g=g||!1,l=l||\"\",h=h||0,k=k||a.s.K.P,n=n||0,a.s.Wa(e,h,k,f,l,g,n)}};a.s.hb=function(b,c,d,e,f){return', 'c==m.N?0document.body.clientWidth?\"hidden\":\"\"}}catch(e){google.ml(e,!1,{cause:a.o.J+\"_HOSW\"})}};a.o.Sa=function(){var', 'b=[\"gpd\",\"spd\",\"aeh\",\"sl\"];if(!window.gbar||!window.gbar.up)return!1;for(var', 'c=0,d;d=b[c];c++)if(!(d', 'in', 'window.gbar.up))return!1;return!0};a.o.$a=function(){return', 'a.o.w.currentStyle&&\"absolute\"!=a.o.w.currentStyle.position};google.promos.toast.init=function(b,c,d,e,f,h,k,l,g,n,q,r){try{if(!a.o.Sa())google.ml(Error(\"apa\"),!1,{cause:a.o.J+\"_INIT\"});else', 'if(a.o.w)if(e==m.O&&!l==!g)google.ml(Error(\"tku\"),!1,{cause:\"zwieback:', '\"+g+\",', 'gaia:', '\"+l}),a.o.R(!1);else', 'if(a.o.H.M=\"toast_count_\"+c+(q?\"_\"+q:\"\"),a.o.H.pa=\"toast_dp_\"+c+(r?\"_\"+r:\"\"),a.o.J=d,a.o.L=b,a.o.$=e,a.o.ja=c,a.o.Ua=f,a.o.na=l?l:g,a.o.ka=!!l,a.o.ma=k,a.s.ab(a.o.w,e,a.o.H.pa,c)||a.s.hb(a.o.w,e,h,a.o.H.M,c)||a.o.$a())a.o.R(!1);else{a.s.Ya(a.o.w,e,a.o.H.M,c,f,a.o.L,a.o.K.Ma,a.o.na,a.o.ka,a.o.ma);if(!n){try{window.gbar.up.aeh(window,\"resize\",a.o.ra)}catch(t){}window.lol=a.o.ra;window.gbar.elr&&a.o.va(window.gbar.elr());window.gbar.elc&&window.gbar.elc(a.o.va);a.o.R(!0)}window.gbar.up.sl(a.o.L,a.o.J,p.V,a.o.ha())}}catch(t){google.ml(t,!1,{cause:a.o.J+\"_INIT\"})}};a.o.ha=function(){var', 'b=a.s.ia(a.o.w,a.o.$,a.o.H.M,a.o.ja);return\"ic=\"+b};})();', '(function(){var', 'sourceWebappPromoID=291003;var', 'sourceWebappGroupID=5;var', 'payloadType=5;var', 'cookieMaxAgeSec=2592000;var', 'dismissalType=5;var', 'impressionCap=25;var', \"gaiaXsrfToken='';var\", \"zwbkXsrfToken='';var\", 'kansasDismissalEnabled=false;var', 'sessionIndex=0;var', 'invisible=false;window.gbar&&gbar.up&&gbar.up.r&&gbar.up.r(payloadType,function(show){if', \"(show){google.promos.toast.init(sourceWebappPromoID,sourceWebappGroupID,payloadType,dismissalType,cookieMaxAgeSec,impressionCap,sessionIndex,gaiaXsrfToken,zwbkXsrfToken,invisible,'0612');}\", '});})();', '\\xc7\\xd1\\xb1\\xb9', '&nbsp;\\xb0\\xed\\xb1\\xde\\xb0\\xcb\\xbb\\xf6\\xbe\\xf0\\xbe\\xee\\xb5\\xb5\\xb1\\xb8\\xb1\\xa4\\xb0\\xed', '\\xc7\\xc1\\xb7\\xce\\xb1\\xd7\\xb7\\xa5\\xba\\xf1\\xc1\\xee\\xb4\\xcf\\xbd\\xba', '\\xbc\\xd6\\xb7\\xe7\\xbc\\xc7+GoogleGoogle', '\\xc1\\xa4\\xba\\xb8Google.com&copy;', '2015', '-', '\\xb0\\xb3\\xc0\\xce\\xc1\\xa4\\xba\\xb8\\xc3\\xeb\\xb1\\xde\\xb9\\xe6\\xc4\\xa7', '-', '\\xbe\\xe0\\xb0\\xfc(function(){window.google.cdo={height:0,width:0};(function(){var', 'a=window.innerWidth,b=window.innerHeight;if(!a||!b)var', 'c=window.document,d=\"CSS1Compat\"==c.compatMode?c.documentElement:c.body,a=d.clientWidth,b=d.clientHeight;a&&b&&(a!=google.cdo.width||b!=google.cdo.height)&&google.log(\"\",\"\",\"/client_204?&atyp=i&biw=\"+a+\"&bih=\"+b+\"&ei=\"+google.kEI);})();})();(function(){function', 'c(b){window.setTimeout(function(){var', 'a=document.createElement(\"script\");a.src=b;document.getElementById(\"xjsd\").appendChild(a)},0)}google.dljp=function(b,a){google.xjsu=b;c(a)};google.dlj=c;})();(function(){window.google.xjsrm=[];})();if(google.y)google.y.first=[];if(!google.xjs){window._=window._||{};window._._DumpException=function(e){throw', 'e};if(google.timers&&google.timers.load.t){google.timers.load.t.xjsls=new', 'Date().getTime();}google.dljp(\\'/xjs/_/js/k\\\\x3dxjs.hp.en_US.5cTxBlA8wJs.O/m\\\\x3dsb_he,d/rt\\\\x3dj/d\\\\x3d1/t\\\\x3dzcms/rs\\\\x3dACT90oHWOhWvHMKwZRh_OOZvKIgItTNUaw\\',\\'/xjs/_/js/k\\\\x3dxjs.hp.en_US.5cTxBlA8wJs.O/m\\\\x3dsb_he,d/rt\\\\x3dj/d\\\\x3d1/t\\\\x3dzcms/rs\\\\x3dACT90oHWOhWvHMKwZRh_OOZvKIgItTNUaw\\');google.xjs=1;}google.pmc={\"sb_he\":{\"agen\":true,\"cgen\":true,\"client\":\"heirloom-hp\",\"dh\":true,\"ds\":\"\",\"fl\":true,\"host\":\"google.co.kr\",\"jam\":0,\"jsonp\":true,\"msgs\":{\"cibl\":\"\\xb0\\xcb\\xbb\\xf6\\xbe\\xee', '\\xc1\\xf6\\xbf\\xec\\xb1\\xe2\",\"dym\":\"\\xc0\\xcc\\xb0\\xcd\\xc0\\xbb', '\\xc3\\xa3\\xc0\\xb8\\xbc\\xcc\\xb3\\xaa\\xbf\\xe4?\",\"lcky\":\"I\\xa1\\xafm', 'Feeling', 'Lucky\",\"lml\":\"\\xc0\\xda\\xbc\\xbc\\xc8\\xf7', '\\xbe\\xcb\\xbe\\xc6\\xba\\xb8\\xb1\\xe2\",\"oskt\":\"\\xc0\\xd4\\xb7\\xc2', '\\xb5\\xb5\\xb1\\xb8\",\"psrc\":\"\\xb0\\xcb\\xbb\\xf6\\xbe\\xee\\xb0\\xa1', '\\\\u003Ca', 'href=\\\\\"/history\\\\\"\\\\u003E\\xc0\\xa5', '\\xb1\\xe2\\xb7\\xcf\\\\u003C/a\\\\u003E\\xbf\\xa1\\xbc\\xad', '\\xbb\\xe8\\xc1\\xa6\\xb5\\xc7\\xbe\\xfa\\xbd\\xc0\\xb4\\xcf\\xb4\\xd9.\",\"psrl\":\"\\xbb\\xe8\\xc1\\xa6\",\"sbit\":\"\\xc0\\xcc\\xb9\\xcc\\xc1\\xf6\\xb7\\xce', '\\xb0\\xcb\\xbb\\xf6\",\"srch\":\"Google', '\\xb0\\xcb\\xbb\\xf6\"},\"ovr\":{},\"pq\":\"\",\"refoq\":true,\"refpd\":true,\"refspre\":true,\"rfs\":[],\"scd\":10,\"sce\":5,\"stok\":\"XGfFlMGBwLbS3f5kGAOeVsbAp3w\"},\"d\":{}};google.y.first.push(function(){if(google.med){google.med(\\'init\\');google.initHistory();google.med(\\'history\\');}});if(google.j&&google.j.en&&google.j.xi){window.setTimeout(google.j.xi,0);}']\n"
     ]
    }
   ],
   "source": [
    "import urllib2\n",
    "\n",
    "source = urllib2.urlopen(\"http://google.com/\").read()\n",
    "\n",
    "\n",
    "end=0\n",
    "i=0\n",
    "temp=\"\"\n",
    "while i<len(source):\n",
    "    if source[i]=='<':\n",
    "        if source[i+1]=='!' and source[i+2]=='-' and source[i+3]=='-': \n",
    "            i+=1\n",
    "            continue\n",
    "        temp+=source[end:i:]\n",
    "    if source[i]=='>':\n",
    "        if source[i-1]=='-' and source[i-2]=='-': \n",
    "            i+=1\n",
    "            continue\n",
    "        end=i+1\n",
    "    i+=1\n",
    "result=temp.split()\n",
    "print len(result)\n",
    "print result"
   ]
  }
 ],
 "metadata": {
  "kernelspec": {
   "display_name": "Python 2",
   "language": "python",
   "name": "python2"
  },
  "language_info": {
   "codemirror_mode": {
    "name": "ipython",
    "version": 2
   },
   "file_extension": ".py",
   "mimetype": "text/x-python",
   "name": "python",
   "nbconvert_exporter": "python",
   "pygments_lexer": "ipython2",
   "version": "2.7.9"
  }
 },
 "nbformat": 4,
 "nbformat_minor": 0
}
