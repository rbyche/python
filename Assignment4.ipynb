{
 "cells": [
  {
   "cell_type": "markdown",
   "metadata": {},
   "source": [
    "# Assignment 4-1"
   ]
  },
  {
   "cell_type": "markdown",
   "metadata": {},
   "source": [
    "Assignment 4-1-1"
   ]
  },
  {
   "cell_type": "code",
   "execution_count": 153,
   "metadata": {
    "collapsed": false
   },
   "outputs": [
    {
     "name": "stdout",
     "output_type": "stream",
     "text": [
      "--s1.txt--\n",
      "cat dog\n",
      "dog pig\n",
      "ham bird\n",
      "pig ham\n",
      "\n"
     ]
    }
   ],
   "source": [
    "r=open('s.txt', 'r')\n",
    "w=open('s1.txt', 'w')\n",
    "\n",
    "line=r.read().split(\"\\n\")\n",
    "line.remove('')\n",
    "line.sort()\n",
    "\n",
    "for i in line:\n",
    "    w.write(i)\n",
    "    w.write(\"\\n\")\n",
    "\n",
    "r.close()\n",
    "w.close()\n",
    "\n",
    "\n",
    "print \"--s1.txt--\"\n",
    "r1=open('s1.txt', 'r')\n",
    "line=r1.read()\n",
    "print line\n",
    "r1.close()"
   ]
  },
  {
   "cell_type": "markdown",
   "metadata": {},
   "source": [
    "r/w로 각각 파일을 읽어 '\\n'로 split하여 sort를 하므로써 문자열의 첫 문자로 정렬, 정렬 후 write함수로 w에 작성합니다."
   ]
  },
  {
   "cell_type": "markdown",
   "metadata": {},
   "source": [
    "Assignment 4-1-2"
   ]
  },
  {
   "cell_type": "code",
   "execution_count": 154,
   "metadata": {
    "collapsed": false
   },
   "outputs": [
    {
     "name": "stdout",
     "output_type": "stream",
     "text": [
      "--s2.txt--\n",
      "ham bird\n",
      "cat dog\n",
      "pig ham\n",
      "dog pig\n",
      "\n"
     ]
    }
   ],
   "source": [
    "r=open('s.txt', 'r')\n",
    "w=open('s2.txt', 'w')\n",
    "\n",
    "newline=[]\n",
    "\n",
    "line=r.read().split(\"\\n\")\n",
    "line.remove('')\n",
    "\n",
    "for i in line:\n",
    "    temp=i.split()\n",
    "    a=temp[1], temp[0]\n",
    "    newline.append(\" \".join(a))\n",
    "\n",
    "newline.sort()\n",
    "\n",
    "for i in newline:\n",
    "    temp=i.split()\n",
    "    a=temp[1], temp[0]\n",
    "    w.write(\" \".join(a))\n",
    "    w.write(\"\\n\")\n",
    "\n",
    "r.close()\n",
    "w.close()\n",
    "\n",
    "\n",
    "print \"--s2.txt--\"\n",
    "r1=open('s2.txt', 'r')\n",
    "line=r1.read()\n",
    "print line\n",
    "r1.close()"
   ]
  },
  {
   "cell_type": "markdown",
   "metadata": {},
   "source": [
    "r/w로 각각 파일을 읽어 '\\n'로 split한 후 앞 단어와 뒷 단어를 swap한 결과를 sort를 하므로써 문자열의 첫 문자로 정렬, 정렬 후 다시 swap후 write함수로 w에 작성합니다."
   ]
  },
  {
   "cell_type": "markdown",
   "metadata": {},
   "source": [
    "Assignment 4-1-3"
   ]
  },
  {
   "cell_type": "code",
   "execution_count": 155,
   "metadata": {
    "collapsed": false,
    "scrolled": false
   },
   "outputs": [
    {
     "name": "stdout",
     "output_type": "stream",
     "text": [
      "--s3.txt--\n",
      "pig ham cat \n",
      "dog ham bird \n",
      "dog pig \n"
     ]
    }
   ],
   "source": [
    "r=open('s.txt', 'r')\n",
    "w=open('s3.txt', 'w')\n",
    "\n",
    "line=r.read().split()\n",
    "\n",
    "for i in range(len(line)):\n",
    "    if i%3==0 and i!=0: w.write(\"\\n\")\n",
    "    a=line[i]+\" \"\n",
    "    w.write(a)\n",
    "\n",
    "r.close()\n",
    "w.close()\n",
    "\n",
    "\n",
    "print \"--s3.txt--\"\n",
    "r1=open('s3.txt', 'r')\n",
    "line=r1.read()\n",
    "print line\n",
    "r1.close()"
   ]
  },
  {
   "cell_type": "markdown",
   "metadata": {},
   "source": [
    "r/w로 각각 파일을 읽어 ' '로 split한 후 3단어 씩 작성. 3번째 단어 후 줄바꿈문자 '\\n'를 첨가 하며 write함수로 w에 작성합니다."
   ]
  },
  {
   "cell_type": "markdown",
   "metadata": {},
   "source": [
    "# Assignment 4-2"
   ]
  },
  {
   "cell_type": "code",
   "execution_count": 1,
   "metadata": {
    "collapsed": false
   },
   "outputs": [
    {
     "name": "stdout",
     "output_type": "stream",
     "text": [
      "Welcome to Our Service\n",
      "1. Sign Up\n",
      "2. Sign In\n",
      "3. Quit\n",
      "cmd:1\n",
      "ID:2012136147\n",
      "Password:pw\n",
      "Name:yuchanhee\n",
      "School:kut\n",
      "Welcome to Our Service\n",
      "1. Sign Up\n",
      "2. Sign In\n",
      "3. Quit\n",
      "cmd:1\n",
      "ID:2012136147\n",
      "Password:pw\n",
      "Name:yuchanhee\n",
      "School:kut\n",
      "Sorry, the entered ID is already used.\n",
      "Welcome to Our Service\n",
      "1. Sign Up\n",
      "2. Sign In\n",
      "3. Quit\n",
      "cmd:2\n",
      "ID:2012136146\n",
      "Password:pw\n",
      "Sorry, you are not a registered member.\n",
      "Welcome to Our Service\n",
      "1. Sign Up\n",
      "2. Sign In\n",
      "3. Quit\n",
      "cmd:2\n",
      "ID:2012136147\n",
      "Password:pw2\n",
      "Sorry, the entered password is not correct.\n",
      "Welcome to Our Service\n",
      "1. Sign Up\n",
      "2. Sign In\n",
      "3. Quit\n",
      "cmd:2\n",
      "ID:2012136147\n",
      "Password:pw\n",
      "Hello [yuchanhee]!\n",
      "Welcome to Our Service\n",
      "1. Sign Up\n",
      "2. Sign In\n",
      "3. Quit\n",
      "cmd:3\n"
     ]
    }
   ],
   "source": [
    "import sha\n",
    "\n",
    "while True:\n",
    "    print \"Welcome to Our Service\\n1. Sign Up\\n2. Sign In\\n3. Quit\"\n",
    "    cmd=input(\"cmd:\")\n",
    "\n",
    "    if cmd is 1:\n",
    "        cid=raw_input(\"ID:\")\n",
    "        password=raw_input(\"Password:\")\n",
    "        name=raw_input(\"Name:\")\n",
    "        school=raw_input(\"School:\")\n",
    "        password = sha.new(password).hexdigest()\n",
    "        r=open('access.txt', 'r')\n",
    "        line=r.read().split()\n",
    "\n",
    "        if name in line:\n",
    "            r.close()\n",
    "            print \"Sorry, the entered ID is already used.\"\n",
    "        else:\n",
    "            r.close()\n",
    "            w=open('access.txt', 'a')\n",
    "            temp=[cid+\" \", password+\" \", name+\" \", school+\"\\n\"]\n",
    "            w.writelines(temp)\n",
    "            w.close()\n",
    "\n",
    "    elif cmd==2:\n",
    "        cid=raw_input(\"ID:\")\n",
    "        password=raw_input(\"Password:\")\n",
    "        password = sha.new(password).hexdigest()\n",
    "        \n",
    "        r=open('access.txt', 'r')\n",
    "        line=r.read().split()\n",
    "        \n",
    "        if cid in line:\n",
    "            r.seek(0)\n",
    "            \n",
    "            for cinfo in r:\n",
    "                temp=cinfo.split()\n",
    "                if temp[0]==cid:\n",
    "                    if temp[1]==password:\n",
    "                        print \"Hello [%s]!\" %(temp[2])\n",
    "                    else:\n",
    "                        print \"Sorry, the entered password is not correct.\"\n",
    "            r.close()\n",
    "        else:\n",
    "            r.close()\n",
    "            print \"Sorry, you are not a registered member.\"\n",
    "    elif cmd==3:\n",
    "        break;\n",
    "    else:\n",
    "        print \"Wrong CMD\""
   ]
  },
  {
   "cell_type": "markdown",
   "metadata": {},
   "source": [
    "while loop과 if-else 문을 사용하여 cmd를 입력 받은 대로 명령을 수행하며 비밀번호의 경우 요구사항에 맞춰 hash값으로 저장합니다.\n",
    "\n",
    "access.txt에 저장된 내용: 2012136147 1a91d62f7ca67399625a4368a6ab5d4a3baa6073 yuchanhee kut"
   ]
  },
  {
   "cell_type": "markdown",
   "metadata": {},
   "source": [
    "# Assignment 4-3"
   ]
  },
  {
   "cell_type": "code",
   "execution_count": 157,
   "metadata": {
    "collapsed": false,
    "scrolled": true
   },
   "outputs": [
    {
     "name": "stdout",
     "output_type": "stream",
     "text": [
      "[0.0, 0.1, 0.2, 0.3, 0.4]\n",
      "[1.0, 1.1, 1.2, 1.3, 1.4, 1.5, 1.6, 1.7, 1.8, 1.9]\n",
      "[2.2, 2.7, 3.2, 3.7]\n"
     ]
    }
   ],
   "source": [
    "def frange(*arg):\n",
    "    a=[]\n",
    "    if len(arg)==1:\n",
    "        x=0\n",
    "        while arg[0]>x:\n",
    "            a.append(round(x, 1))\n",
    "            x+=0.1\n",
    "        return a\n",
    "    \n",
    "    elif len(arg)==2:\n",
    "        x=arg[0]\n",
    "        while arg[1]>x:\n",
    "            a.append(round(x, 1))\n",
    "            x+=0.1\n",
    "        return a\n",
    "    \n",
    "    elif len(arg)==3:\n",
    "        x=arg[0]\n",
    "        while arg[1]>x:\n",
    "            a.append(round(x, 1))\n",
    "            x+=arg[2]\n",
    "        return a\n",
    "    else: print \"Error\"\n",
    "    \n",
    "print frange(0.5)\n",
    "print frange(1.0, 2.0)\n",
    "print frange(2.2, 4.0, 0.5)"
   ]
  },
  {
   "cell_type": "markdown",
   "metadata": {},
   "source": [
    "매개변수의 수에 따라 if-else문으로 분기하여 요구하는 바에 맞게 while문으로 값을 더해가며 append 후 새로만들어진 리스트를 return합니다."
   ]
  },
  {
   "cell_type": "markdown",
   "metadata": {},
   "source": [
    "# Assignment 4-4"
   ]
  },
  {
   "cell_type": "code",
   "execution_count": 158,
   "metadata": {
    "collapsed": false
   },
   "outputs": [
    {
     "name": "stdout",
     "output_type": "stream",
     "text": [
      "0\n",
      "3\n",
      "15\n",
      "5\n"
     ]
    }
   ],
   "source": [
    "def sum(*arg):\n",
    "    if len(arg)==0: return 0\n",
    "    else: return reduce(lambda x, y: x+y, arg)\n",
    "\n",
    "print sum()\n",
    "print sum(1,2)\n",
    "print sum(1, 2, 3, 4, 5)\n",
    "print sum(1, 5, 7, 2, -10)"
   ]
  },
  {
   "cell_type": "markdown",
   "metadata": {},
   "source": [
    "lamda 함수와 reduce 함수를 사용하여 원소들의 합을 구해 return 합니다."
   ]
  },
  {
   "cell_type": "markdown",
   "metadata": {},
   "source": [
    "# Assignment 4-5"
   ]
  },
  {
   "cell_type": "code",
   "execution_count": 159,
   "metadata": {
    "collapsed": false
   },
   "outputs": [
    {
     "name": "stdout",
     "output_type": "stream",
     "text": [
      "ASAP\n"
     ]
    }
   ],
   "source": [
    "def myinitial(s):\n",
    "    return \"\".join(map(lambda x: x[0].upper(), s.split()))\n",
    "\n",
    "print myinitial(\"as soon as possible\")"
   ]
  },
  {
   "cell_type": "markdown",
   "metadata": {},
   "source": [
    "문장을 공백으로 split한 후 lambda 함수와 map 함수를 사용하여 모든 글자들의 첫 원소를 upper합니다. 그 후 join함수를 이용하여 upper된 문자들만 모아 return 합니다."
   ]
  },
  {
   "cell_type": "markdown",
   "metadata": {},
   "source": [
    "# Assignment 4-6"
   ]
  },
  {
   "cell_type": "code",
   "execution_count": 160,
   "metadata": {
    "collapsed": false,
    "scrolled": true
   },
   "outputs": [
    {
     "name": "stdout",
     "output_type": "stream",
     "text": [
      "624378448084887421644276201155371533813133314513778956917043307954013553132286811826025304811291633557445216594235399137244339393795243224427063983876922784092579744124380439498494658632716356848811265585390382928484805264930169381830115393037386478109012171760802289990019606320780552848845073761304625052828713075853765547432965477281763340038377550466750173593503750707432867491253901093982460559410003397289052947322239374968688088639356136290084960149561545520325604931221916812135894937033928240023961230356221467070810660270132044553051260073829383061969098258045215797992182852056048353341694779275000418658626804442001691484238771002483669634781878605295515735007721908919459799309190107679272344843823964534440336597903698357729156443483749076912720659622827374789323582049812176096366069477761877901516839444314656639379126077282532681401267830145558406021129449285682947075296240068938491649103962476780899355295542139743684510969451431409301748250731123114068905685054525881900559263029833993605002278952996771600751079971965873927323920441389702408716311217303425953072887205469228774170118516446231773205195835624917249880923644456063746553627860471658875302287828747482742927434568234616519058217489830426652923200955809214626066240335462642317684331568902556746920968263297620660683769257581848467674955363836082944502913976998258096660338555290108289441078225963016837980899314505405819657992123732066572274141215664206345082645012633405986571080348166661550465164164960425654533382860979588238095967780755801727588418015480579360240143193377950778867559543479943151746405775611383940806461013428431014933324442979136735380301307617660552072764805498670449839937529975812250680529849855453692705622147264686591187657957621181015112926208668099202424573984709670582022555885894416485771186743797224720662386711540374919439786160945814158455404886511156204197532219352675018387872658281176235654557364451762863778772605084586657991222729020724728065248216087546705857154630586338312076278588904760594220165099331125795362936468777164964334863763875770043074903465797978697941512245974456185398872757827165928773724186608349312394648057865605990913256692226881136034892813403651911707785133327961290546321145712680766537728000000000000000000000000000000000000000000000000000000000000000000000000000000000000000000000000000000000000000000000000000000000000000000000000000000000000000000000000000000000000000000000000000000000000000000000000000000000000000000000000\n"
     ]
    }
   ],
   "source": [
    "def myfact(n, result=1, next=2):\n",
    "    if n>=next: return myfact(n, result*next, next+1)\n",
    "    else: return result\n",
    "    \n",
    "print myfact(970)"
   ]
  },
  {
   "cell_type": "markdown",
   "metadata": {},
   "source": [
    "최종 값:n 그리고 현재까지의 !: result*next 그리고 다음에 곱할 값: next+1을 매개변수로 재귀함수로 넘겨 !를 구합니다. 980부턴 죽어버려서 970까지만 구했습니다."
   ]
  },
  {
   "cell_type": "markdown",
   "metadata": {},
   "source": [
    "# Assignment 4-7"
   ]
  },
  {
   "cell_type": "markdown",
   "metadata": {},
   "source": [
    "(서술형) import string 과 from string import * 의 차이점을 설명하시오.\n",
    "\n",
    "import string: python 내의 string 모듈을 import\n",
    "\n",
    "from string import *: string파일 내의 모든 모듈을 import"
   ]
  },
  {
   "cell_type": "markdown",
   "metadata": {},
   "source": [
    "# Assignment 4-8 프로젝트 오일러 10번"
   ]
  },
  {
   "cell_type": "code",
   "execution_count": 1,
   "metadata": {
    "collapsed": false
   },
   "outputs": [
    {
     "name": "stdout",
     "output_type": "stream",
     "text": [
      "142913828922\n"
     ]
    }
   ],
   "source": [
    "sum=2+3+5+7+11\n",
    "target=2000000\n",
    "for i in range(2, target+10000):\n",
    "    if i%2==0 or i%3==0 or i%5==0 or i%7==0 or i%11==0: continue\n",
    "    if i>target: break\n",
    "\n",
    "    for j in range(2, i/2+1):\n",
    "        if i%j==0: break\n",
    "        if j==i/2: sum+=i\n",
    "print sum"
   ]
  },
  {
   "cell_type": "markdown",
   "metadata": {},
   "source": [
    "# Assignment 4-9프로젝트 오일러 11번"
   ]
  },
  {
   "cell_type": "code",
   "execution_count": 63,
   "metadata": {
    "collapsed": false
   },
   "outputs": [
    {
     "name": "stdout",
     "output_type": "stream",
     "text": [
      "70600674\n"
     ]
    }
   ],
   "source": [
    "num=\"\"\"\n",
    " 08 02 22 97 38 15 00 40 00 75 04 05 07 78 52 12 50 77 91 08\n",
    " 49 49 99 40 17 81 18 57 60 87 17 40 98 43 69 48 04 56 62 00\n",
    " 81 49 31 73 55 79 14 29 93 71 40 67 53 88 30 03 49 13 36 65\n",
    " 52 70 95 23 04 60 11 42 69 24 68 56 01 32 56 71 37 02 36 91\n",
    " 22 31 16 71 51 67 63 89 41 92 36 54 22 40 40 28 66 33 13 80\n",
    " 24 47 32 60 99 03 45 02 44 75 33 53 78 36 84 20 35 17 12 50\n",
    " 32 98 81 28 64 23 67 10 26 38 40 67 59 54 70 66 18 38 64 70\n",
    " 67 26 20 68 02 62 12 20 95 63 94 39 63 08 40 91 66 49 94 21\n",
    " 24 55 58 05 66 73 99 26 97 17 78 78 96 83 14 88 34 89 63 72\n",
    " 21 36 23 09 75 00 76 44 20 45 35 14 00 61 33 97 34 31 33 95\n",
    " 78 17 53 28 22 75 31 67 15 94 03 80 04 62 16 14 09 53 56 92\n",
    " 16 39 05 42 96 35 31 47 55 58 88 24 00 17 54 24 36 29 85 57\n",
    " 86 56 00 48 35 71 89 07 05 44 44 37 44 60 21 58 51 54 17 58\n",
    " 19 80 81 68 05 94 47 69 28 73 92 13 86 52 17 77 04 89 55 40\n",
    " 04 52 08 83 97 35 99 16 07 97 57 32 16 26 26 79 33 27 98 66\n",
    " 88 36 68 87 57 62 20 72 03 46 33 67 46 55 12 32 63 93 53 69\n",
    " 04 42 16 73 38 25 39 11 24 94 72 18 08 46 29 32 40 62 76 36\n",
    " 20 69 36 41 72 30 23 88 34 62 99 69 82 67 59 85 74 04 36 16\n",
    " 20 73 35 29 78 31 90 01 74 31 49 71 48 86 81 16 23 57 05 54\n",
    " 01 70 54 71 83 51 54 69 16 92 33 48 61 43 52 01 89 19 67 48\n",
    " \"\"\"\n",
    "numlist=num.split()\n",
    "maximum=0\n",
    "line=20\n",
    "\n",
    "for i in range(20):\n",
    "    for j in range(20):\n",
    "        index=i*20+j\n",
    "        if(j<17): # 가로\n",
    "            temp=int(numlist[index])*int(numlist[index+1])*int(numlist[index+2])*int(numlist[index+3])\n",
    "            if temp>maximum: maximum=temp\n",
    "        \n",
    "        if(i<17): #세로\n",
    "            temp=int(numlist[index])*int(numlist[index+line])*int(numlist[index+(2*line)])*int(numlist[index+(3*line)])\n",
    "            if temp>maximum: maximum=temp\n",
    "            if(j>3): #대각선 좌\n",
    "                temp=int(numlist[index])*int(numlist[index+line-1])*int(numlist[index+2*line-2])*int(numlist[index+3*line-3])\n",
    "                if temp>maximum: maximum=temp\n",
    "            if(j<17): #대각선 우\n",
    "                temp=int(numlist[index])*int(numlist[index+line+1])*int(numlist[index+2*line+2])*int(numlist[index+3*line+3])\n",
    "                if temp>maximum: maximum=temp\n",
    "        \n",
    "print maximum"
   ]
  },
  {
   "cell_type": "markdown",
   "metadata": {},
   "source": [
    "가로와 세로로 (0,0)부터 한칸씩 가로와 세로로 대각선들 각각의 곱의 값을 구하며 마지막 (20,20)까지 진행하며 maximum값을 저장합니다."
   ]
  },
  {
   "cell_type": "markdown",
   "metadata": {},
   "source": [
    "# Assignment 4-10 프로젝트 오일러 12번"
   ]
  },
  {
   "cell_type": "code",
   "execution_count": 28,
   "metadata": {
    "collapsed": false
   },
   "outputs": [
    {
     "name": "stdout",
     "output_type": "stream",
     "text": [
      "76576500\n"
     ]
    }
   ],
   "source": [
    "def cal(a):\n",
    "    count=0\n",
    "    c=[]\n",
    "    for i in range(2, a/2+1):\n",
    "        while a%i==0:\n",
    "            a=a/i\n",
    "            count=count+1\n",
    "        if count!=0:\n",
    "            c.append(count+1)\n",
    "            count=0\n",
    "        if i<=0:\n",
    "            break\n",
    "    result=1\n",
    "    for i in range(len(c)):\n",
    "        result*=c[i]\n",
    "    return result\n",
    "\n",
    "i=1\n",
    "j=1\n",
    "while True:\n",
    "    i=i+1\n",
    "    j+=i\n",
    "    if j>76500000:\n",
    "        if cal(j)>=500:\n",
    "            print j\n",
    "            break"
   ]
  },
  {
   "cell_type": "markdown",
   "metadata": {},
   "source": [
    "loop를 돌며 삼각 수들을 구하며 각 삼각수들에 대한 약수의 갯수를 구하는 cal()함수를 통해 return 받습니다. cal()의 return 값이 500번이 될때의 값을 출력해줍니다."
   ]
  },
  {
   "cell_type": "markdown",
   "metadata": {},
   "source": [
    "# Assignment 4-11 프로젝트 오일러 13번"
   ]
  },
  {
   "cell_type": "code",
   "execution_count": 7,
   "metadata": {
    "collapsed": false,
    "scrolled": true
   },
   "outputs": [
    {
     "name": "stdout",
     "output_type": "stream",
     "text": [
      "5350353422\n"
     ]
    }
   ],
   "source": [
    "a=[37107287533902102798797998220837590246510135740250,\n",
    "46376937677490009712648124896970078050417018260538,\n",
    "74324986199524741059474233309513058123726617309629,\n",
    "91942213363574161572522430563301811072406154908250,\n",
    "23067588207539346171171980310421047513778063246676,\n",
    "89261670696623633820136378418383684178734361726757,\n",
    "28112879812849979408065481931592621691275889832738,\n",
    "44274228917432520321923589422876796487670272189318,\n",
    "47451445736001306439091167216856844588711603153276,\n",
    "70386486105843025439939619828917593665686757934951,\n",
    "62176457141856560629502157223196586755079324193331,\n",
    "64906352462741904929101432445813822663347944758178,\n",
    "92575867718337217661963751590579239728245598838407,\n",
    "58203565325359399008402633568948830189458628227828,\n",
    "80181199384826282014278194139940567587151170094390,\n",
    "35398664372827112653829987240784473053190104293586,\n",
    "86515506006295864861532075273371959191420517255829,\n",
    "71693888707715466499115593487603532921714970056938,\n",
    "54370070576826684624621495650076471787294438377604,\n",
    "53282654108756828443191190634694037855217779295145,\n",
    "36123272525000296071075082563815656710885258350721,\n",
    "45876576172410976447339110607218265236877223636045,\n",
    "17423706905851860660448207621209813287860733969412,\n",
    "81142660418086830619328460811191061556940512689692,\n",
    "51934325451728388641918047049293215058642563049483,\n",
    "62467221648435076201727918039944693004732956340691,\n",
    "15732444386908125794514089057706229429197107928209,\n",
    "55037687525678773091862540744969844508330393682126,\n",
    "18336384825330154686196124348767681297534375946515,\n",
    "80386287592878490201521685554828717201219257766954,\n",
    "78182833757993103614740356856449095527097864797581,\n",
    "16726320100436897842553539920931837441497806860984,\n",
    "48403098129077791799088218795327364475675590848030,\n",
    "87086987551392711854517078544161852424320693150332,\n",
    "59959406895756536782107074926966537676326235447210,\n",
    "69793950679652694742597709739166693763042633987085,\n",
    "41052684708299085211399427365734116182760315001271,\n",
    "65378607361501080857009149939512557028198746004375,\n",
    "35829035317434717326932123578154982629742552737307,\n",
    "94953759765105305946966067683156574377167401875275,\n",
    "88902802571733229619176668713819931811048770190271,\n",
    "25267680276078003013678680992525463401061632866526,\n",
    "36270218540497705585629946580636237993140746255962,\n",
    "24074486908231174977792365466257246923322810917141,\n",
    "91430288197103288597806669760892938638285025333403,\n",
    "34413065578016127815921815005561868836468420090470,\n",
    "23053081172816430487623791969842487255036638784583,\n",
    "11487696932154902810424020138335124462181441773470,\n",
    "63783299490636259666498587618221225225512486764533,\n",
    "67720186971698544312419572409913959008952310058822,\n",
    "95548255300263520781532296796249481641953868218774,\n",
    "76085327132285723110424803456124867697064507995236,\n",
    "37774242535411291684276865538926205024910326572967,\n",
    "23701913275725675285653248258265463092207058596522,\n",
    "29798860272258331913126375147341994889534765745501,\n",
    "18495701454879288984856827726077713721403798879715,\n",
    "38298203783031473527721580348144513491373226651381,\n",
    "34829543829199918180278916522431027392251122869539,\n",
    "40957953066405232632538044100059654939159879593635,\n",
    "29746152185502371307642255121183693803580388584903,\n",
    "41698116222072977186158236678424689157993532961922,\n",
    "62467957194401269043877107275048102390895523597457,\n",
    "23189706772547915061505504953922979530901129967519,\n",
    "86188088225875314529584099251203829009407770775672,\n",
    "11306739708304724483816533873502340845647058077308,\n",
    "82959174767140363198008187129011875491310547126581,\n",
    "97623331044818386269515456334926366572897563400500,\n",
    "42846280183517070527831839425882145521227251250327,\n",
    "55121603546981200581762165212827652751691296897789,\n",
    "32238195734329339946437501907836945765883352399886,\n",
    "75506164965184775180738168837861091527357929701337,\n",
    "62177842752192623401942399639168044983993173312731,\n",
    "32924185707147349566916674687634660915035914677504,\n",
    "99518671430235219628894890102423325116913619626622,\n",
    "73267460800591547471830798392868535206946944540724,\n",
    "76841822524674417161514036427982273348055556214818,\n",
    "97142617910342598647204516893989422179826088076852,\n",
    "87783646182799346313767754307809363333018982642090,\n",
    "10848802521674670883215120185883543223812876952786,\n",
    "71329612474782464538636993009049310363619763878039,\n",
    "62184073572399794223406235393808339651327408011116,\n",
    "66627891981488087797941876876144230030984490851411,\n",
    "60661826293682836764744779239180335110989069790714,\n",
    "85786944089552990653640447425576083659976645795096,\n",
    "66024396409905389607120198219976047599490197230297,\n",
    "64913982680032973156037120041377903785566085089252,\n",
    "16730939319872750275468906903707539413042652315011,\n",
    "94809377245048795150954100921645863754710598436791,\n",
    "78639167021187492431995700641917969777599028300699,\n",
    "15368713711936614952811305876380278410754449733078,\n",
    "40789923115535562561142322423255033685442488917353,\n",
    "44889911501440648020369068063960672322193204149535,\n",
    "41503128880339536053299340368006977710650566631954,\n",
    "81234880673210146739058568557934581403627822703280,\n",
    "82616570773948327592232845941706525094512325230608,\n",
    "22918802058777319719839450180888072429661980811197,\n",
    "77158542502016545090413245809786882778948721859617,\n",
    "72107838435069186155435662884062257473692284509516,\n",
    "20849603980134001723930671666823555245252804609722,\n",
    "53503534226472524250874054075591789781264330331690]\n",
    "\n",
    "add=0\n",
    "result=0\n",
    "for i in range(len(a)):\n",
    "    add=result+a[i]\n",
    "result=str(add)\n",
    "print result[:10:]"
   ]
  },
  {
   "cell_type": "markdown",
   "metadata": {},
   "source": [
    "모든 값들을 더한 후 str형으로 변환하여 10자리까지 slicing하여 출력합니다."
   ]
  },
  {
   "cell_type": "markdown",
   "metadata": {},
   "source": [
    "# Assignment 4-12 프로젝트 오일러 14번"
   ]
  },
  {
   "cell_type": "code",
   "execution_count": 10,
   "metadata": {
    "collapsed": false
   },
   "outputs": [
    {
     "name": "stdout",
     "output_type": "stream",
     "text": [
      "13\n",
      "40\n",
      "20\n",
      "10\n",
      "5\n",
      "16\n",
      "8\n",
      "4\n",
      "2\n",
      "1\n",
      "13 에서 10 번\n"
     ]
    }
   ],
   "source": [
    "maxnum=[0, 0] # count, number\n",
    "for i in range(13, 14):\n",
    "    count=1\n",
    "    j=i\n",
    "\n",
    "    while True:\n",
    "        if i==13: print j\n",
    "        if j==1:\n",
    "            if count>maxnum[0]:\n",
    "                maxnum[0]=count\n",
    "                maxnum[1]=i\n",
    "                break\n",
    "        else:\n",
    "            count=count+1\n",
    "        if j%2==0:\n",
    "            j=j/2\n",
    "        else:\n",
    "            j=3*j+1\n",
    "print maxnum[1], \"에서\", maxnum[0], \"번\""
   ]
  },
  {
   "cell_type": "markdown",
   "metadata": {},
   "source": [
    "1000000만까지 가면 컴퓨터가 멈춰서 13의 규칙에 대한 예제를 출력해보았습니다."
   ]
  },
  {
   "cell_type": "markdown",
   "metadata": {},
   "source": [
    "# Assignment 4-13 프로젝트 오일러 15번"
   ]
  },
  {
   "cell_type": "code",
   "execution_count": 1,
   "metadata": {
    "collapsed": false,
    "scrolled": true
   },
   "outputs": [
    {
     "name": "stdout",
     "output_type": "stream",
     "text": [
      "137846528820\n"
     ]
    }
   ],
   "source": [
    "size=20\n",
    "result=[]\n",
    "for i in range(size):\n",
    "    result.append([x for x in range(size)])\n",
    "\n",
    "j=1\n",
    "for i in range(size):\n",
    "    j=j+1\n",
    "    result[0][i]=j\n",
    "\n",
    "for i in range(1, size):\n",
    "    result[i][0]=result[i-1][0]+1\n",
    "    for j in range(1, size):\n",
    "        result[i][j]=(result[i][j-1]+result[i-1][j])\n",
    "print result[size-1][size-1]"
   ]
  },
  {
   "cell_type": "markdown",
   "metadata": {},
   "source": [
    "Dynamic programming기법으로 (0,0)에서 x축으로 y축으로 값들을 미리 입력 후 하나하나 계산하여 (20,20)의 값을 return 합니다."
   ]
  },
  {
   "cell_type": "markdown",
   "metadata": {},
   "source": [
    "# Assignment 4-14"
   ]
  },
  {
   "cell_type": "code",
   "execution_count": 11,
   "metadata": {
    "collapsed": false
   },
   "outputs": [
    {
     "name": "stdout",
     "output_type": "stream",
     "text": [
      "(1942, 'div')\n",
      "(1052, 'li')\n",
      "(363, 'span')\n",
      "(313, 'h2')\n",
      "(298, 'h3')\n"
     ]
    }
   ],
   "source": [
    "import urllib2\n",
    "import string\n",
    "import pickle\n",
    "\n",
    "sitelist=[]\n",
    "sitelist.append(\"http://www.google.com\")\n",
    "sitelist.append(\"http://www.yahoo.com\")\n",
    "sitelist.append(\"http://sg.yahoo.com\")\n",
    "sitelist.append(\"http://www.nytimes.com\")\n",
    "sitelist.append(\"http://www.bbc.com\")\n",
    "\n",
    "counterarr=[]\n",
    "ig_words=[ 'a', 'and', 'are', 'as', 'at', 'be', 'but', 'by', 'for', 'if', 'in', 'into', 'is', 'it', 'no', 'not', 'of', 'on', 'or', 's', 'such', 't', 'that', 'the', 'their', 'then', 'there', 'these', 'they', 'this', 'to', 'was', 'will', 'with']\n",
    "\n",
    "def make_html_file(source, name):\n",
    "    name=name.split(\"//\")\n",
    "    if len(name)==1:\n",
    "        name=name[0]+\".html\"\n",
    "    else:\n",
    "        name=name[1]+\".html\"\n",
    "    \n",
    "    w=open(name, 'w')\n",
    "    w.write(source)\n",
    "    w.close()\n",
    "\n",
    "def make_dic_file(counter, name):\n",
    "    name=name.split(\"//\")\n",
    "    if len(name)==1:\n",
    "        name=name[0]+\".words.frequency\"\n",
    "    else:\n",
    "        name=name[1]+\".words.frequency\"\n",
    "    w = open(name, 'w')\n",
    "    pickle.dump(counter, w)\n",
    "    w.close()\n",
    "\n",
    "def get_dic_file(name):\n",
    "    name=name.split(\"//\")\n",
    "    if len(name)==1:\n",
    "        name=name[0]+\".words.frequency\"\n",
    "    else:\n",
    "        name=name[1]+\".words.frequency\"\n",
    "    w = open(name, 'r')\n",
    "    temp=pickle.load(w)\n",
    "    w.close()\n",
    "    return temp\n",
    "    \n",
    "    \n",
    "for list in sitelist:\n",
    "    source = urllib2.urlopen(list).read()\n",
    "    make_html_file(source, list)\n",
    "\n",
    "    for i in range(0, source.count('<!--')):\n",
    "        if source.find(\"<!--\") != -1:\n",
    "            source = source.replace(source[source.find(\"<!--\"):source.find(\"-->\")+3:],\"\")\n",
    "\n",
    "    for i in range(0,source.count(\"<\")):\n",
    "        if source.find(\"<\") != -1:\n",
    "            source = source.replace(source[source.find(\"<\"):source.find(\">\")+1:],\"\")\n",
    "\n",
    "    words = source.split()\n",
    "    \n",
    "    counter={}\n",
    "    i=0\n",
    "    ilength=len(words)\n",
    "    while i < ilength:\n",
    "        j=0\n",
    "        jlength=len(words[i])\n",
    "        while j < jlength:\n",
    "            if words[i][j] in string.punctuation:\n",
    "                words[i]=words[i].replace(words[i][j], '')\n",
    "                j-=1\n",
    "                jlength=len(words[i])\n",
    "            j+=1\n",
    "\n",
    "        if len(words[i])==0:\n",
    "            words.pop(i)\n",
    "            ilength-=1\n",
    "            i-=1\n",
    "        elif words[i] in ig_words: #불용어 제거\n",
    "            words.pop(i)\n",
    "            ilength-=1\n",
    "            i-=1\n",
    "        else:\n",
    "            if words[i] in counter:\n",
    "                counter[words[i]]+=1\n",
    "            else:\n",
    "                counter[words[i]]=1\n",
    "        i+=1 \n",
    "    counterarr.append(counter)\n",
    "    make_dic_file(counter, list)\n",
    "\n",
    "\n",
    "total={}\n",
    "for list in sitelist: # 5개의 dic을 하나로 합침\n",
    "    temp=get_dic_file(list) #dic가지고 오기\n",
    "    word=temp.keys()\n",
    "    for i in word:\n",
    "        if i in total: total[i]+=temp[i]\n",
    "        else: total[i]=temp[i]\n",
    "\n",
    "counter=[]\n",
    "temp=total.keys()\n",
    "for i in temp:\n",
    "    counter.append((total[i], i ))\n",
    "\n",
    "counter.sort(reverse=True)   \n",
    "for i in range(5):\n",
    "    print counter[i]"
   ]
  },
  {
   "cell_type": "markdown",
   "metadata": {},
   "source": [
    "불용어를 in을 사용하여 해당될 경우 pop시켜 필터링합니다. 또한 make_html_file()함수에서는 source로 받은 html을 파일로 저장하고, make_dic_file()함수로 각 사이트별로 저장된 dic정보를 파일로 저장합니다. 마지막으로 get_dic_file()함수로 저장된 dic정보를 읽어들어옵니다. 읽어들어온 dic정보들을 하나로 합쳐(동일한 단어에 대한 counter합병) sorting 후 상위 5개를 제시합니다. 다만 조교님게서 올려주신 소스를 기반으로 진행했는데 html 문법들이 상위에 랭크되어 조금 더 분석해 보아야 겠습니다."
   ]
  },
  {
   "cell_type": "markdown",
   "metadata": {
    "collapsed": false
   },
   "source": [
    "# 숙제이후 소감"
   ]
  },
  {
   "cell_type": "markdown",
   "metadata": {},
   "source": [
    "지난 과제들에 비해 비교적 난이도 있었고 프로젝트 오일러 10번과 14번의 경우 구하는데 시간이 오래 걸려 개선방안을 찾아봐야 할 것 같습니다."
   ]
  }
 ],
 "metadata": {
  "kernelspec": {
   "display_name": "Python 2",
   "language": "python",
   "name": "python2"
  },
  "language_info": {
   "codemirror_mode": {
    "name": "ipython",
    "version": 2
   },
   "file_extension": ".py",
   "mimetype": "text/x-python",
   "name": "python",
   "nbconvert_exporter": "python",
   "pygments_lexer": "ipython2",
   "version": "2.7.9"
  }
 },
 "nbformat": 4,
 "nbformat_minor": 0
}
